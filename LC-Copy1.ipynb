{
 "cells": [
  {
   "cell_type": "markdown",
   "metadata": {},
   "source": [
    "## 1. Data"
   ]
  },
  {
   "cell_type": "markdown",
   "metadata": {},
   "source": [
    "Lending Club 2016年Q3数据：https://www.lendingclub.com/info/download-data.action\n",
    "\n",
    "参考：http://kldavenport.com/lending-club-data-analysis-revisted-with-python/"
   ]
  },
  {
   "cell_type": "code",
   "execution_count": 1,
   "metadata": {
    "collapsed": true
   },
   "outputs": [],
   "source": [
    "import pandas as pd\n",
    "import numpy as np\n",
    "import matplotlib.pyplot as plt\n",
    "# import seaborn as sns\n",
    "%matplotlib inline"
   ]
  },
  {
   "cell_type": "code",
   "execution_count": 2,
   "metadata": {
    "collapsed": true
   },
   "outputs": [],
   "source": [
    "df = pd.read_csv(\"./LoanStats_2016Q3.csv\",skiprows=1,low_memory=False)"
   ]
  },
  {
   "cell_type": "code",
   "execution_count": 3,
   "metadata": {},
   "outputs": [
    {
     "name": "stdout",
     "output_type": "stream",
     "text": [
      "<class 'pandas.core.frame.DataFrame'>\n",
      "RangeIndex: 99122 entries, 0 to 99121\n",
      "Columns: 122 entries, id to sec_app_mths_since_last_major_derog\n",
      "dtypes: float64(97), object(25)\n",
      "memory usage: 92.3+ MB\n"
     ]
    }
   ],
   "source": [
    "df.info()"
   ]
  },
  {
   "cell_type": "code",
   "execution_count": 4,
   "metadata": {},
   "outputs": [
    {
     "data": {
      "text/html": [
       "<div>\n",
       "<style scoped>\n",
       "    .dataframe tbody tr th:only-of-type {\n",
       "        vertical-align: middle;\n",
       "    }\n",
       "\n",
       "    .dataframe tbody tr th {\n",
       "        vertical-align: top;\n",
       "    }\n",
       "\n",
       "    .dataframe thead th {\n",
       "        text-align: right;\n",
       "    }\n",
       "</style>\n",
       "<table border=\"1\" class=\"dataframe\">\n",
       "  <thead>\n",
       "    <tr style=\"text-align: right;\">\n",
       "      <th></th>\n",
       "      <th>id</th>\n",
       "      <th>member_id</th>\n",
       "      <th>loan_amnt</th>\n",
       "      <th>funded_amnt</th>\n",
       "      <th>funded_amnt_inv</th>\n",
       "      <th>term</th>\n",
       "      <th>int_rate</th>\n",
       "      <th>installment</th>\n",
       "      <th>grade</th>\n",
       "      <th>sub_grade</th>\n",
       "      <th>...</th>\n",
       "      <th>sec_app_earliest_cr_line</th>\n",
       "      <th>sec_app_inq_last_6mths</th>\n",
       "      <th>sec_app_mort_acc</th>\n",
       "      <th>sec_app_open_acc</th>\n",
       "      <th>sec_app_revol_util</th>\n",
       "      <th>sec_app_open_il_6m</th>\n",
       "      <th>sec_app_num_rev_accts</th>\n",
       "      <th>sec_app_chargeoff_within_12_mths</th>\n",
       "      <th>sec_app_collections_12_mths_ex_med</th>\n",
       "      <th>sec_app_mths_since_last_major_derog</th>\n",
       "    </tr>\n",
       "  </thead>\n",
       "  <tbody>\n",
       "    <tr>\n",
       "      <th>0</th>\n",
       "      <td>NaN</td>\n",
       "      <td>NaN</td>\n",
       "      <td>15000.0</td>\n",
       "      <td>15000.0</td>\n",
       "      <td>15000.0</td>\n",
       "      <td>36 months</td>\n",
       "      <td>13.99%</td>\n",
       "      <td>512.60</td>\n",
       "      <td>C</td>\n",
       "      <td>C3</td>\n",
       "      <td>...</td>\n",
       "      <td>NaN</td>\n",
       "      <td>NaN</td>\n",
       "      <td>NaN</td>\n",
       "      <td>NaN</td>\n",
       "      <td>NaN</td>\n",
       "      <td>NaN</td>\n",
       "      <td>NaN</td>\n",
       "      <td>NaN</td>\n",
       "      <td>NaN</td>\n",
       "      <td>NaN</td>\n",
       "    </tr>\n",
       "    <tr>\n",
       "      <th>1</th>\n",
       "      <td>NaN</td>\n",
       "      <td>NaN</td>\n",
       "      <td>2600.0</td>\n",
       "      <td>2600.0</td>\n",
       "      <td>2600.0</td>\n",
       "      <td>36 months</td>\n",
       "      <td>8.99%</td>\n",
       "      <td>82.67</td>\n",
       "      <td>B</td>\n",
       "      <td>B1</td>\n",
       "      <td>...</td>\n",
       "      <td>NaN</td>\n",
       "      <td>NaN</td>\n",
       "      <td>NaN</td>\n",
       "      <td>NaN</td>\n",
       "      <td>NaN</td>\n",
       "      <td>NaN</td>\n",
       "      <td>NaN</td>\n",
       "      <td>NaN</td>\n",
       "      <td>NaN</td>\n",
       "      <td>NaN</td>\n",
       "    </tr>\n",
       "    <tr>\n",
       "      <th>2</th>\n",
       "      <td>NaN</td>\n",
       "      <td>NaN</td>\n",
       "      <td>32200.0</td>\n",
       "      <td>32200.0</td>\n",
       "      <td>32200.0</td>\n",
       "      <td>60 months</td>\n",
       "      <td>21.49%</td>\n",
       "      <td>880.02</td>\n",
       "      <td>D</td>\n",
       "      <td>D5</td>\n",
       "      <td>...</td>\n",
       "      <td>NaN</td>\n",
       "      <td>NaN</td>\n",
       "      <td>NaN</td>\n",
       "      <td>NaN</td>\n",
       "      <td>NaN</td>\n",
       "      <td>NaN</td>\n",
       "      <td>NaN</td>\n",
       "      <td>NaN</td>\n",
       "      <td>NaN</td>\n",
       "      <td>NaN</td>\n",
       "    </tr>\n",
       "  </tbody>\n",
       "</table>\n",
       "<p>3 rows × 122 columns</p>\n",
       "</div>"
      ],
      "text/plain": [
       "    id  member_id  loan_amnt  funded_amnt  funded_amnt_inv        term  \\\n",
       "0  NaN        NaN    15000.0      15000.0          15000.0   36 months   \n",
       "1  NaN        NaN     2600.0       2600.0           2600.0   36 months   \n",
       "2  NaN        NaN    32200.0      32200.0          32200.0   60 months   \n",
       "\n",
       "  int_rate  installment grade sub_grade  ... sec_app_earliest_cr_line  \\\n",
       "0   13.99%       512.60     C        C3  ...                      NaN   \n",
       "1    8.99%        82.67     B        B1  ...                      NaN   \n",
       "2   21.49%       880.02     D        D5  ...                      NaN   \n",
       "\n",
       "  sec_app_inq_last_6mths sec_app_mort_acc  sec_app_open_acc  \\\n",
       "0                    NaN              NaN               NaN   \n",
       "1                    NaN              NaN               NaN   \n",
       "2                    NaN              NaN               NaN   \n",
       "\n",
       "  sec_app_revol_util sec_app_open_il_6m sec_app_num_rev_accts  \\\n",
       "0                NaN                NaN                   NaN   \n",
       "1                NaN                NaN                   NaN   \n",
       "2                NaN                NaN                   NaN   \n",
       "\n",
       "  sec_app_chargeoff_within_12_mths  sec_app_collections_12_mths_ex_med  \\\n",
       "0                              NaN                                 NaN   \n",
       "1                              NaN                                 NaN   \n",
       "2                              NaN                                 NaN   \n",
       "\n",
       "  sec_app_mths_since_last_major_derog  \n",
       "0                                 NaN  \n",
       "1                                 NaN  \n",
       "2                                 NaN  \n",
       "\n",
       "[3 rows x 122 columns]"
      ]
     },
     "execution_count": 4,
     "metadata": {},
     "output_type": "execute_result"
    }
   ],
   "source": [
    "df.head(3)"
   ]
  },
  {
   "cell_type": "markdown",
   "metadata": {},
   "source": [
    "## 2. Keep what we need"
   ]
  },
  {
   "cell_type": "code",
   "execution_count": 6,
   "metadata": {},
   "outputs": [
    {
     "data": {
      "text/html": [
       "<div>\n",
       "<style scoped>\n",
       "    .dataframe tbody tr th:only-of-type {\n",
       "        vertical-align: middle;\n",
       "    }\n",
       "\n",
       "    .dataframe tbody tr th {\n",
       "        vertical-align: top;\n",
       "    }\n",
       "\n",
       "    .dataframe thead th {\n",
       "        text-align: right;\n",
       "    }\n",
       "</style>\n",
       "<table border=\"1\" class=\"dataframe\">\n",
       "  <thead>\n",
       "    <tr style=\"text-align: right;\">\n",
       "      <th></th>\n",
       "      <th>id</th>\n",
       "      <th>member_id</th>\n",
       "      <th>loan_amnt</th>\n",
       "      <th>funded_amnt</th>\n",
       "      <th>funded_amnt_inv</th>\n",
       "      <th>term</th>\n",
       "      <th>int_rate</th>\n",
       "    </tr>\n",
       "  </thead>\n",
       "  <tbody>\n",
       "    <tr>\n",
       "      <th>0</th>\n",
       "      <td>NaN</td>\n",
       "      <td>NaN</td>\n",
       "      <td>15000.0</td>\n",
       "      <td>15000.0</td>\n",
       "      <td>15000.0</td>\n",
       "      <td>36 months</td>\n",
       "      <td>13.99%</td>\n",
       "    </tr>\n",
       "    <tr>\n",
       "      <th>1</th>\n",
       "      <td>NaN</td>\n",
       "      <td>NaN</td>\n",
       "      <td>2600.0</td>\n",
       "      <td>2600.0</td>\n",
       "      <td>2600.0</td>\n",
       "      <td>36 months</td>\n",
       "      <td>8.99%</td>\n",
       "    </tr>\n",
       "    <tr>\n",
       "      <th>2</th>\n",
       "      <td>NaN</td>\n",
       "      <td>NaN</td>\n",
       "      <td>32200.0</td>\n",
       "      <td>32200.0</td>\n",
       "      <td>32200.0</td>\n",
       "      <td>60 months</td>\n",
       "      <td>21.49%</td>\n",
       "    </tr>\n",
       "    <tr>\n",
       "      <th>3</th>\n",
       "      <td>NaN</td>\n",
       "      <td>NaN</td>\n",
       "      <td>10000.0</td>\n",
       "      <td>10000.0</td>\n",
       "      <td>10000.0</td>\n",
       "      <td>36 months</td>\n",
       "      <td>11.49%</td>\n",
       "    </tr>\n",
       "  </tbody>\n",
       "</table>\n",
       "</div>"
      ],
      "text/plain": [
       "    id  member_id  loan_amnt  funded_amnt  funded_amnt_inv        term  \\\n",
       "0  NaN        NaN    15000.0      15000.0          15000.0   36 months   \n",
       "1  NaN        NaN     2600.0       2600.0           2600.0   36 months   \n",
       "2  NaN        NaN    32200.0      32200.0          32200.0   60 months   \n",
       "3  NaN        NaN    10000.0      10000.0          10000.0   36 months   \n",
       "\n",
       "  int_rate  \n",
       "0   13.99%  \n",
       "1    8.99%  \n",
       "2   21.49%  \n",
       "3   11.49%  "
      ]
     },
     "execution_count": 6,
     "metadata": {},
     "output_type": "execute_result"
    }
   ],
   "source": [
    "# .ix[row slice, column slice] \n",
    "df.iloc[:4,:7]"
   ]
  },
  {
   "cell_type": "code",
   "execution_count": 7,
   "metadata": {
    "collapsed": true
   },
   "outputs": [],
   "source": [
    "df.drop('id',1,inplace=True)\n",
    "df.drop('member_id',1,inplace=True)"
   ]
  },
  {
   "cell_type": "code",
   "execution_count": 8,
   "metadata": {
    "collapsed": true
   },
   "outputs": [],
   "source": [
    "df.int_rate = pd.Series(df.int_rate).str.replace('%', '').astype(float)"
   ]
  },
  {
   "cell_type": "code",
   "execution_count": 10,
   "metadata": {},
   "outputs": [
    {
     "data": {
      "text/html": [
       "<div>\n",
       "<style scoped>\n",
       "    .dataframe tbody tr th:only-of-type {\n",
       "        vertical-align: middle;\n",
       "    }\n",
       "\n",
       "    .dataframe tbody tr th {\n",
       "        vertical-align: top;\n",
       "    }\n",
       "\n",
       "    .dataframe thead th {\n",
       "        text-align: right;\n",
       "    }\n",
       "</style>\n",
       "<table border=\"1\" class=\"dataframe\">\n",
       "  <thead>\n",
       "    <tr style=\"text-align: right;\">\n",
       "      <th></th>\n",
       "      <th>loan_amnt</th>\n",
       "      <th>funded_amnt</th>\n",
       "      <th>funded_amnt_inv</th>\n",
       "      <th>term</th>\n",
       "      <th>int_rate</th>\n",
       "      <th>installment</th>\n",
       "      <th>grade</th>\n",
       "    </tr>\n",
       "  </thead>\n",
       "  <tbody>\n",
       "    <tr>\n",
       "      <th>0</th>\n",
       "      <td>15000.0</td>\n",
       "      <td>15000.0</td>\n",
       "      <td>15000.0</td>\n",
       "      <td>36 months</td>\n",
       "      <td>13.99</td>\n",
       "      <td>512.60</td>\n",
       "      <td>C</td>\n",
       "    </tr>\n",
       "    <tr>\n",
       "      <th>1</th>\n",
       "      <td>2600.0</td>\n",
       "      <td>2600.0</td>\n",
       "      <td>2600.0</td>\n",
       "      <td>36 months</td>\n",
       "      <td>8.99</td>\n",
       "      <td>82.67</td>\n",
       "      <td>B</td>\n",
       "    </tr>\n",
       "    <tr>\n",
       "      <th>2</th>\n",
       "      <td>32200.0</td>\n",
       "      <td>32200.0</td>\n",
       "      <td>32200.0</td>\n",
       "      <td>60 months</td>\n",
       "      <td>21.49</td>\n",
       "      <td>880.02</td>\n",
       "      <td>D</td>\n",
       "    </tr>\n",
       "    <tr>\n",
       "      <th>3</th>\n",
       "      <td>10000.0</td>\n",
       "      <td>10000.0</td>\n",
       "      <td>10000.0</td>\n",
       "      <td>36 months</td>\n",
       "      <td>11.49</td>\n",
       "      <td>329.72</td>\n",
       "      <td>B</td>\n",
       "    </tr>\n",
       "  </tbody>\n",
       "</table>\n",
       "</div>"
      ],
      "text/plain": [
       "   loan_amnt  funded_amnt  funded_amnt_inv        term  int_rate  installment  \\\n",
       "0    15000.0      15000.0          15000.0   36 months     13.99       512.60   \n",
       "1     2600.0       2600.0           2600.0   36 months      8.99        82.67   \n",
       "2    32200.0      32200.0          32200.0   60 months     21.49       880.02   \n",
       "3    10000.0      10000.0          10000.0   36 months     11.49       329.72   \n",
       "\n",
       "  grade  \n",
       "0     C  \n",
       "1     B  \n",
       "2     D  \n",
       "3     B  "
      ]
     },
     "execution_count": 10,
     "metadata": {},
     "output_type": "execute_result"
    }
   ],
   "source": [
    "df.iloc[:4,:7]"
   ]
  },
  {
   "cell_type": "markdown",
   "metadata": {},
   "source": [
    "### Loan Amount Requested Verus the Funded Amount"
   ]
  },
  {
   "cell_type": "code",
   "execution_count": 14,
   "metadata": {},
   "outputs": [
    {
     "name": "stdout",
     "output_type": "stream",
     "text": [
      "0        False\n",
      "1        False\n",
      "2        False\n",
      "3        False\n",
      "4        False\n",
      "         ...  \n",
      "99117    False\n",
      "99118    False\n",
      "99119    False\n",
      "99120     True\n",
      "99121     True\n",
      "Length: 99122, dtype: bool\n"
     ]
    }
   ],
   "source": [
    "print (df.loan_amnt != df.funded_amnt)\n",
    "# .value_counts\n",
    "# .value_counts()"
   ]
  },
  {
   "cell_type": "code",
   "execution_count": 15,
   "metadata": {},
   "outputs": [
    {
     "data": {
      "text/html": [
       "<div>\n",
       "<style scoped>\n",
       "    .dataframe tbody tr th:only-of-type {\n",
       "        vertical-align: middle;\n",
       "    }\n",
       "\n",
       "    .dataframe tbody tr th {\n",
       "        vertical-align: top;\n",
       "    }\n",
       "\n",
       "    .dataframe thead th {\n",
       "        text-align: right;\n",
       "    }\n",
       "</style>\n",
       "<table border=\"1\" class=\"dataframe\">\n",
       "  <thead>\n",
       "    <tr style=\"text-align: right;\">\n",
       "      <th></th>\n",
       "      <th>loan_amnt</th>\n",
       "      <th>funded_amnt</th>\n",
       "      <th>funded_amnt_inv</th>\n",
       "      <th>term</th>\n",
       "      <th>int_rate</th>\n",
       "      <th>installment</th>\n",
       "      <th>grade</th>\n",
       "      <th>sub_grade</th>\n",
       "      <th>emp_title</th>\n",
       "      <th>emp_length</th>\n",
       "      <th>...</th>\n",
       "      <th>sec_app_earliest_cr_line</th>\n",
       "      <th>sec_app_inq_last_6mths</th>\n",
       "      <th>sec_app_mort_acc</th>\n",
       "      <th>sec_app_open_acc</th>\n",
       "      <th>sec_app_revol_util</th>\n",
       "      <th>sec_app_open_il_6m</th>\n",
       "      <th>sec_app_num_rev_accts</th>\n",
       "      <th>sec_app_chargeoff_within_12_mths</th>\n",
       "      <th>sec_app_collections_12_mths_ex_med</th>\n",
       "      <th>sec_app_mths_since_last_major_derog</th>\n",
       "    </tr>\n",
       "  </thead>\n",
       "  <tbody>\n",
       "    <tr>\n",
       "      <th>99120</th>\n",
       "      <td>NaN</td>\n",
       "      <td>NaN</td>\n",
       "      <td>NaN</td>\n",
       "      <td>NaN</td>\n",
       "      <td>NaN</td>\n",
       "      <td>NaN</td>\n",
       "      <td>NaN</td>\n",
       "      <td>NaN</td>\n",
       "      <td>NaN</td>\n",
       "      <td>NaN</td>\n",
       "      <td>...</td>\n",
       "      <td>NaN</td>\n",
       "      <td>NaN</td>\n",
       "      <td>NaN</td>\n",
       "      <td>NaN</td>\n",
       "      <td>NaN</td>\n",
       "      <td>NaN</td>\n",
       "      <td>NaN</td>\n",
       "      <td>NaN</td>\n",
       "      <td>NaN</td>\n",
       "      <td>NaN</td>\n",
       "    </tr>\n",
       "    <tr>\n",
       "      <th>99121</th>\n",
       "      <td>NaN</td>\n",
       "      <td>NaN</td>\n",
       "      <td>NaN</td>\n",
       "      <td>NaN</td>\n",
       "      <td>NaN</td>\n",
       "      <td>NaN</td>\n",
       "      <td>NaN</td>\n",
       "      <td>NaN</td>\n",
       "      <td>NaN</td>\n",
       "      <td>NaN</td>\n",
       "      <td>...</td>\n",
       "      <td>NaN</td>\n",
       "      <td>NaN</td>\n",
       "      <td>NaN</td>\n",
       "      <td>NaN</td>\n",
       "      <td>NaN</td>\n",
       "      <td>NaN</td>\n",
       "      <td>NaN</td>\n",
       "      <td>NaN</td>\n",
       "      <td>NaN</td>\n",
       "      <td>NaN</td>\n",
       "    </tr>\n",
       "  </tbody>\n",
       "</table>\n",
       "<p>2 rows × 120 columns</p>\n",
       "</div>"
      ],
      "text/plain": [
       "       loan_amnt  funded_amnt  funded_amnt_inv term  int_rate  installment  \\\n",
       "99120        NaN          NaN              NaN  NaN       NaN          NaN   \n",
       "99121        NaN          NaN              NaN  NaN       NaN          NaN   \n",
       "\n",
       "      grade sub_grade emp_title emp_length  ... sec_app_earliest_cr_line  \\\n",
       "99120   NaN       NaN       NaN        NaN  ...                      NaN   \n",
       "99121   NaN       NaN       NaN        NaN  ...                      NaN   \n",
       "\n",
       "       sec_app_inq_last_6mths sec_app_mort_acc sec_app_open_acc  \\\n",
       "99120                     NaN              NaN              NaN   \n",
       "99121                     NaN              NaN              NaN   \n",
       "\n",
       "      sec_app_revol_util sec_app_open_il_6m  sec_app_num_rev_accts  \\\n",
       "99120                NaN                NaN                    NaN   \n",
       "99121                NaN                NaN                    NaN   \n",
       "\n",
       "      sec_app_chargeoff_within_12_mths sec_app_collections_12_mths_ex_med  \\\n",
       "99120                              NaN                                NaN   \n",
       "99121                              NaN                                NaN   \n",
       "\n",
       "      sec_app_mths_since_last_major_derog  \n",
       "99120                                 NaN  \n",
       "99121                                 NaN  \n",
       "\n",
       "[2 rows x 120 columns]"
      ]
     },
     "execution_count": 15,
     "metadata": {},
     "output_type": "execute_result"
    }
   ],
   "source": [
    "df.query('loan_amnt != funded_amnt').head(5)"
   ]
  },
  {
   "cell_type": "code",
   "execution_count": 16,
   "metadata": {
    "collapsed": true
   },
   "outputs": [],
   "source": [
    "df.dropna(axis=0, how='all',inplace=True)"
   ]
  },
  {
   "cell_type": "code",
   "execution_count": 17,
   "metadata": {},
   "outputs": [
    {
     "name": "stdout",
     "output_type": "stream",
     "text": [
      "<class 'pandas.core.frame.DataFrame'>\n",
      "Int64Index: 99120 entries, 0 to 99119\n",
      "Columns: 120 entries, loan_amnt to sec_app_mths_since_last_major_derog\n",
      "dtypes: float64(97), object(23)\n",
      "memory usage: 91.5+ MB\n"
     ]
    }
   ],
   "source": [
    "df.info()"
   ]
  },
  {
   "cell_type": "code",
   "execution_count": 18,
   "metadata": {
    "collapsed": true
   },
   "outputs": [],
   "source": [
    "df.dropna(axis=1, how='all',inplace=True)"
   ]
  },
  {
   "cell_type": "code",
   "execution_count": 19,
   "metadata": {},
   "outputs": [
    {
     "name": "stdout",
     "output_type": "stream",
     "text": [
      "<class 'pandas.core.frame.DataFrame'>\n",
      "Int64Index: 99120 entries, 0 to 99119\n",
      "Columns: 108 entries, loan_amnt to total_il_high_credit_limit\n",
      "dtypes: float64(85), object(23)\n",
      "memory usage: 82.4+ MB\n"
     ]
    }
   ],
   "source": [
    "df.info()"
   ]
  },
  {
   "cell_type": "code",
   "execution_count": 21,
   "metadata": {},
   "outputs": [
    {
     "data": {
      "text/html": [
       "<div>\n",
       "<style scoped>\n",
       "    .dataframe tbody tr th:only-of-type {\n",
       "        vertical-align: middle;\n",
       "    }\n",
       "\n",
       "    .dataframe tbody tr th {\n",
       "        vertical-align: top;\n",
       "    }\n",
       "\n",
       "    .dataframe thead th {\n",
       "        text-align: right;\n",
       "    }\n",
       "</style>\n",
       "<table border=\"1\" class=\"dataframe\">\n",
       "  <thead>\n",
       "    <tr style=\"text-align: right;\">\n",
       "      <th></th>\n",
       "      <th>emp_title</th>\n",
       "      <th>emp_length</th>\n",
       "      <th>home_ownership</th>\n",
       "      <th>annual_inc</th>\n",
       "      <th>verification_status</th>\n",
       "      <th>issue_d</th>\n",
       "      <th>loan_status</th>\n",
       "    </tr>\n",
       "  </thead>\n",
       "  <tbody>\n",
       "    <tr>\n",
       "      <th>0</th>\n",
       "      <td>Fiscal Director</td>\n",
       "      <td>2 years</td>\n",
       "      <td>RENT</td>\n",
       "      <td>55000.0</td>\n",
       "      <td>Not Verified</td>\n",
       "      <td>Sep-2016</td>\n",
       "      <td>Current</td>\n",
       "    </tr>\n",
       "    <tr>\n",
       "      <th>1</th>\n",
       "      <td>Loaner Coordinator</td>\n",
       "      <td>3 years</td>\n",
       "      <td>RENT</td>\n",
       "      <td>35000.0</td>\n",
       "      <td>Source Verified</td>\n",
       "      <td>Sep-2016</td>\n",
       "      <td>Fully Paid</td>\n",
       "    </tr>\n",
       "    <tr>\n",
       "      <th>2</th>\n",
       "      <td>warehouse/supervisor</td>\n",
       "      <td>10+ years</td>\n",
       "      <td>MORTGAGE</td>\n",
       "      <td>65000.0</td>\n",
       "      <td>Not Verified</td>\n",
       "      <td>Sep-2016</td>\n",
       "      <td>Fully Paid</td>\n",
       "    </tr>\n",
       "    <tr>\n",
       "      <th>3</th>\n",
       "      <td>Teacher</td>\n",
       "      <td>10+ years</td>\n",
       "      <td>OWN</td>\n",
       "      <td>55900.0</td>\n",
       "      <td>Not Verified</td>\n",
       "      <td>Sep-2016</td>\n",
       "      <td>Current</td>\n",
       "    </tr>\n",
       "    <tr>\n",
       "      <th>4</th>\n",
       "      <td>SERVICE MGR</td>\n",
       "      <td>5 years</td>\n",
       "      <td>RENT</td>\n",
       "      <td>33000.0</td>\n",
       "      <td>Not Verified</td>\n",
       "      <td>Sep-2016</td>\n",
       "      <td>Current</td>\n",
       "    </tr>\n",
       "  </tbody>\n",
       "</table>\n",
       "</div>"
      ],
      "text/plain": [
       "              emp_title emp_length home_ownership  annual_inc  \\\n",
       "0       Fiscal Director    2 years           RENT     55000.0   \n",
       "1    Loaner Coordinator    3 years           RENT     35000.0   \n",
       "2  warehouse/supervisor  10+ years       MORTGAGE     65000.0   \n",
       "3               Teacher  10+ years            OWN     55900.0   \n",
       "4           SERVICE MGR    5 years           RENT     33000.0   \n",
       "\n",
       "  verification_status   issue_d loan_status  \n",
       "0        Not Verified  Sep-2016     Current  \n",
       "1     Source Verified  Sep-2016  Fully Paid  \n",
       "2        Not Verified  Sep-2016  Fully Paid  \n",
       "3        Not Verified  Sep-2016     Current  \n",
       "4        Not Verified  Sep-2016     Current  "
      ]
     },
     "execution_count": 21,
     "metadata": {},
     "output_type": "execute_result"
    }
   ],
   "source": [
    "df.iloc[:5,8:15]"
   ]
  },
  {
   "cell_type": "markdown",
   "metadata": {},
   "source": [
    "### emp_title: employment title"
   ]
  },
  {
   "cell_type": "code",
   "execution_count": 22,
   "metadata": {},
   "outputs": [
    {
     "name": "stdout",
     "output_type": "stream",
     "text": [
      "Teacher       1931\n",
      "Manager       1701\n",
      "Owner          990\n",
      "Supervisor     785\n",
      "Driver         756\n",
      "Name: emp_title, dtype: int64\n",
      "Research Strategist                 1\n",
      "Level 3 Skilled Material Handler    1\n",
      "Anesthesia Technician               1\n",
      "DEPUTY                              1\n",
      "Digital Press Operator              1\n",
      "Name: emp_title, dtype: int64\n"
     ]
    },
    {
     "data": {
      "text/plain": [
       "(37421,)"
      ]
     },
     "execution_count": 22,
     "metadata": {},
     "output_type": "execute_result"
    }
   ],
   "source": [
    "print(df.emp_title.value_counts().head())\n",
    "print(df.emp_title.value_counts().tail())\n",
    "df.emp_title.unique().shape"
   ]
  },
  {
   "cell_type": "code",
   "execution_count": 23,
   "metadata": {
    "collapsed": true
   },
   "outputs": [],
   "source": [
    "df.drop(['emp_title'],1, inplace=True)"
   ]
  },
  {
   "cell_type": "code",
   "execution_count": 24,
   "metadata": {},
   "outputs": [
    {
     "data": {
      "text/html": [
       "<div>\n",
       "<style scoped>\n",
       "    .dataframe tbody tr th:only-of-type {\n",
       "        vertical-align: middle;\n",
       "    }\n",
       "\n",
       "    .dataframe tbody tr th {\n",
       "        vertical-align: top;\n",
       "    }\n",
       "\n",
       "    .dataframe thead th {\n",
       "        text-align: right;\n",
       "    }\n",
       "</style>\n",
       "<table border=\"1\" class=\"dataframe\">\n",
       "  <thead>\n",
       "    <tr style=\"text-align: right;\">\n",
       "      <th></th>\n",
       "      <th>emp_length</th>\n",
       "      <th>home_ownership</th>\n",
       "      <th>annual_inc</th>\n",
       "      <th>verification_status</th>\n",
       "      <th>issue_d</th>\n",
       "      <th>loan_status</th>\n",
       "      <th>pymnt_plan</th>\n",
       "    </tr>\n",
       "  </thead>\n",
       "  <tbody>\n",
       "    <tr>\n",
       "      <th>0</th>\n",
       "      <td>2 years</td>\n",
       "      <td>RENT</td>\n",
       "      <td>55000.0</td>\n",
       "      <td>Not Verified</td>\n",
       "      <td>Sep-2016</td>\n",
       "      <td>Current</td>\n",
       "      <td>n</td>\n",
       "    </tr>\n",
       "    <tr>\n",
       "      <th>1</th>\n",
       "      <td>3 years</td>\n",
       "      <td>RENT</td>\n",
       "      <td>35000.0</td>\n",
       "      <td>Source Verified</td>\n",
       "      <td>Sep-2016</td>\n",
       "      <td>Fully Paid</td>\n",
       "      <td>n</td>\n",
       "    </tr>\n",
       "    <tr>\n",
       "      <th>2</th>\n",
       "      <td>10+ years</td>\n",
       "      <td>MORTGAGE</td>\n",
       "      <td>65000.0</td>\n",
       "      <td>Not Verified</td>\n",
       "      <td>Sep-2016</td>\n",
       "      <td>Fully Paid</td>\n",
       "      <td>n</td>\n",
       "    </tr>\n",
       "    <tr>\n",
       "      <th>3</th>\n",
       "      <td>10+ years</td>\n",
       "      <td>OWN</td>\n",
       "      <td>55900.0</td>\n",
       "      <td>Not Verified</td>\n",
       "      <td>Sep-2016</td>\n",
       "      <td>Current</td>\n",
       "      <td>n</td>\n",
       "    </tr>\n",
       "    <tr>\n",
       "      <th>4</th>\n",
       "      <td>5 years</td>\n",
       "      <td>RENT</td>\n",
       "      <td>33000.0</td>\n",
       "      <td>Not Verified</td>\n",
       "      <td>Sep-2016</td>\n",
       "      <td>Current</td>\n",
       "      <td>n</td>\n",
       "    </tr>\n",
       "  </tbody>\n",
       "</table>\n",
       "</div>"
      ],
      "text/plain": [
       "  emp_length home_ownership  annual_inc verification_status   issue_d  \\\n",
       "0    2 years           RENT     55000.0        Not Verified  Sep-2016   \n",
       "1    3 years           RENT     35000.0     Source Verified  Sep-2016   \n",
       "2  10+ years       MORTGAGE     65000.0        Not Verified  Sep-2016   \n",
       "3  10+ years            OWN     55900.0        Not Verified  Sep-2016   \n",
       "4    5 years           RENT     33000.0        Not Verified  Sep-2016   \n",
       "\n",
       "  loan_status pymnt_plan  \n",
       "0     Current          n  \n",
       "1  Fully Paid          n  \n",
       "2  Fully Paid          n  \n",
       "3     Current          n  \n",
       "4     Current          n  "
      ]
     },
     "execution_count": 24,
     "metadata": {},
     "output_type": "execute_result"
    }
   ],
   "source": [
    "df.iloc[:5,8:15]"
   ]
  },
  {
   "cell_type": "markdown",
   "metadata": {},
   "source": [
    "### emp_length: employment length"
   ]
  },
  {
   "cell_type": "code",
   "execution_count": 25,
   "metadata": {},
   "outputs": [
    {
     "data": {
      "text/plain": [
       "10+ years    34219\n",
       "2 years       9066\n",
       "3 years       7925\n",
       "< 1 year      7104\n",
       "1 year        6991\n",
       "5 years       6170\n",
       "4 years       6022\n",
       "6 years       4406\n",
       "8 years       4168\n",
       "9 years       3922\n",
       "7 years       3205\n",
       "Name: emp_length, dtype: int64"
      ]
     },
     "execution_count": 25,
     "metadata": {},
     "output_type": "execute_result"
    }
   ],
   "source": [
    "df.emp_length.value_counts()"
   ]
  },
  {
   "cell_type": "code",
   "execution_count": 26,
   "metadata": {
    "collapsed": true
   },
   "outputs": [],
   "source": [
    "df.replace('n/a', np.nan,inplace=True)\n",
    "df.emp_length.fillna(value=0,inplace=True)\n",
    "df['emp_length'].replace(to_replace='[^0-9]+', value='', inplace=True, regex=True)\n",
    "df['emp_length'] = df['emp_length'].astype(int)"
   ]
  },
  {
   "cell_type": "code",
   "execution_count": 27,
   "metadata": {},
   "outputs": [
    {
     "data": {
      "text/plain": [
       "10    34219\n",
       "1     14095\n",
       "2      9066\n",
       "3      7925\n",
       "5      6170\n",
       "4      6022\n",
       "0      5922\n",
       "6      4406\n",
       "8      4168\n",
       "9      3922\n",
       "7      3205\n",
       "Name: emp_length, dtype: int64"
      ]
     },
     "execution_count": 27,
     "metadata": {},
     "output_type": "execute_result"
    }
   ],
   "source": [
    "df.emp_length.value_counts()"
   ]
  },
  {
   "cell_type": "markdown",
   "metadata": {},
   "source": [
    "### verification status:\"Indicates if income was verified by LC, not verified, or if the income source was verified\""
   ]
  },
  {
   "cell_type": "code",
   "execution_count": 28,
   "metadata": {},
   "outputs": [
    {
     "data": {
      "text/plain": [
       "Source Verified    40781\n",
       "Verified           31356\n",
       "Not Verified       26983\n",
       "Name: verification_status, dtype: int64"
      ]
     },
     "execution_count": 28,
     "metadata": {},
     "output_type": "execute_result"
    }
   ],
   "source": [
    "df.verification_status.value_counts()"
   ]
  },
  {
   "cell_type": "markdown",
   "metadata": {},
   "source": [
    "### Target: Loan Statuses"
   ]
  },
  {
   "cell_type": "code",
   "execution_count": 29,
   "metadata": {},
   "outputs": [
    {
     "name": "stdout",
     "output_type": "stream",
     "text": [
      "<class 'pandas.core.frame.DataFrame'>\n",
      "Int64Index: 99120 entries, 0 to 99119\n",
      "Columns: 107 entries, loan_amnt to total_il_high_credit_limit\n",
      "dtypes: float64(85), int32(1), object(21)\n",
      "memory usage: 81.3+ MB\n"
     ]
    }
   ],
   "source": [
    "df.info()"
   ]
  },
  {
   "cell_type": "code",
   "execution_count": 30,
   "metadata": {},
   "outputs": [
    {
     "data": {
      "text/plain": [
       "Index(['loan_amnt', 'funded_amnt', 'funded_amnt_inv', 'term', 'int_rate',\n",
       "       'installment', 'grade', 'sub_grade', 'emp_length', 'home_ownership',\n",
       "       ...\n",
       "       'num_tl_90g_dpd_24m', 'num_tl_op_past_12m', 'pct_tl_nvr_dlq',\n",
       "       'percent_bc_gt_75', 'pub_rec_bankruptcies', 'tax_liens',\n",
       "       'tot_hi_cred_lim', 'total_bal_ex_mort', 'total_bc_limit',\n",
       "       'total_il_high_credit_limit'],\n",
       "      dtype='object', length=107)"
      ]
     },
     "execution_count": 30,
     "metadata": {},
     "output_type": "execute_result"
    }
   ],
   "source": [
    "df.columns"
   ]
  },
  {
   "cell_type": "code",
   "execution_count": 31,
   "metadata": {},
   "outputs": [
    {
     "data": {
      "text/plain": [
       "array(['Current', 'Fully Paid', 'Late (31-120 days)', 'Charged Off',\n",
       "       'Late (16-30 days)', 'In Grace Period', 'Default'], dtype=object)"
      ]
     },
     "execution_count": 31,
     "metadata": {},
     "output_type": "execute_result"
    }
   ],
   "source": [
    "pd.unique(df['loan_status'].values.ravel())"
   ]
  },
  {
   "cell_type": "code",
   "execution_count": 32,
   "metadata": {},
   "outputs": [
    {
     "name": "stdout",
     "output_type": "stream",
     "text": [
      "Column term has 2 unique instances\n",
      "Column grade has 7 unique instances\n",
      "Column sub_grade has 35 unique instances\n",
      "Column home_ownership has 4 unique instances\n",
      "Column verification_status has 3 unique instances\n",
      "Column issue_d has 3 unique instances\n",
      "Column loan_status has 7 unique instances\n",
      "Column pymnt_plan has 2 unique instances\n",
      "Column desc has 6 unique instances\n",
      "Column purpose has 13 unique instances\n",
      "Column title has 13 unique instances\n",
      "Column zip_code has 873 unique instances\n",
      "Column addr_state has 50 unique instances\n",
      "Column earliest_cr_line has 614 unique instances\n",
      "Column revol_util has 1087 unique instances\n",
      "Column initial_list_status has 2 unique instances\n",
      "Column last_pymnt_d has 13 unique instances\n",
      "Column next_pymnt_d has 4 unique instances\n",
      "Column last_credit_pull_d has 14 unique instances\n",
      "Column application_type has 3 unique instances\n",
      "Column verification_status_joint has 2 unique instances\n"
     ]
    }
   ],
   "source": [
    "for col in df.select_dtypes(include=['object']).columns:\n",
    "    print (\"Column {} has {} unique instances\".format( col, len(df[col].unique())) )"
   ]
  },
  {
   "cell_type": "code",
   "execution_count": 33,
   "metadata": {},
   "outputs": [
    {
     "data": {
      "text/html": [
       "<div>\n",
       "<style scoped>\n",
       "    .dataframe tbody tr th:only-of-type {\n",
       "        vertical-align: middle;\n",
       "    }\n",
       "\n",
       "    .dataframe tbody tr th {\n",
       "        vertical-align: top;\n",
       "    }\n",
       "\n",
       "    .dataframe thead th {\n",
       "        text-align: right;\n",
       "    }\n",
       "</style>\n",
       "<table border=\"1\" class=\"dataframe\">\n",
       "  <thead>\n",
       "    <tr style=\"text-align: right;\">\n",
       "      <th></th>\n",
       "      <th>count</th>\n",
       "      <th>unique</th>\n",
       "      <th>top</th>\n",
       "      <th>freq</th>\n",
       "      <th>missing_pct</th>\n",
       "    </tr>\n",
       "  </thead>\n",
       "  <tbody>\n",
       "    <tr>\n",
       "      <th>term</th>\n",
       "      <td>99120</td>\n",
       "      <td>2</td>\n",
       "      <td>36 months</td>\n",
       "      <td>73898</td>\n",
       "      <td>0.000000</td>\n",
       "    </tr>\n",
       "    <tr>\n",
       "      <th>grade</th>\n",
       "      <td>99120</td>\n",
       "      <td>7</td>\n",
       "      <td>C</td>\n",
       "      <td>32846</td>\n",
       "      <td>0.000000</td>\n",
       "    </tr>\n",
       "    <tr>\n",
       "      <th>sub_grade</th>\n",
       "      <td>99120</td>\n",
       "      <td>35</td>\n",
       "      <td>B5</td>\n",
       "      <td>8322</td>\n",
       "      <td>0.000000</td>\n",
       "    </tr>\n",
       "    <tr>\n",
       "      <th>home_ownership</th>\n",
       "      <td>99120</td>\n",
       "      <td>4</td>\n",
       "      <td>MORTGAGE</td>\n",
       "      <td>46761</td>\n",
       "      <td>0.000000</td>\n",
       "    </tr>\n",
       "    <tr>\n",
       "      <th>verification_status</th>\n",
       "      <td>99120</td>\n",
       "      <td>3</td>\n",
       "      <td>Source Verified</td>\n",
       "      <td>40781</td>\n",
       "      <td>0.000000</td>\n",
       "    </tr>\n",
       "    <tr>\n",
       "      <th>issue_d</th>\n",
       "      <td>99120</td>\n",
       "      <td>3</td>\n",
       "      <td>Aug-2016</td>\n",
       "      <td>36280</td>\n",
       "      <td>0.000000</td>\n",
       "    </tr>\n",
       "    <tr>\n",
       "      <th>loan_status</th>\n",
       "      <td>99120</td>\n",
       "      <td>7</td>\n",
       "      <td>Current</td>\n",
       "      <td>79445</td>\n",
       "      <td>0.000000</td>\n",
       "    </tr>\n",
       "    <tr>\n",
       "      <th>pymnt_plan</th>\n",
       "      <td>99120</td>\n",
       "      <td>2</td>\n",
       "      <td>n</td>\n",
       "      <td>99074</td>\n",
       "      <td>0.000000</td>\n",
       "    </tr>\n",
       "    <tr>\n",
       "      <th>desc</th>\n",
       "      <td>6</td>\n",
       "      <td>5</td>\n",
       "      <td></td>\n",
       "      <td>2</td>\n",
       "      <td>0.999939</td>\n",
       "    </tr>\n",
       "    <tr>\n",
       "      <th>purpose</th>\n",
       "      <td>99120</td>\n",
       "      <td>13</td>\n",
       "      <td>debt_consolidation</td>\n",
       "      <td>57682</td>\n",
       "      <td>0.000000</td>\n",
       "    </tr>\n",
       "    <tr>\n",
       "      <th>title</th>\n",
       "      <td>93693</td>\n",
       "      <td>12</td>\n",
       "      <td>Debt consolidation</td>\n",
       "      <td>53999</td>\n",
       "      <td>0.054752</td>\n",
       "    </tr>\n",
       "    <tr>\n",
       "      <th>zip_code</th>\n",
       "      <td>99120</td>\n",
       "      <td>873</td>\n",
       "      <td>112xx</td>\n",
       "      <td>1125</td>\n",
       "      <td>0.000000</td>\n",
       "    </tr>\n",
       "    <tr>\n",
       "      <th>addr_state</th>\n",
       "      <td>99120</td>\n",
       "      <td>50</td>\n",
       "      <td>CA</td>\n",
       "      <td>13352</td>\n",
       "      <td>0.000000</td>\n",
       "    </tr>\n",
       "    <tr>\n",
       "      <th>earliest_cr_line</th>\n",
       "      <td>99120</td>\n",
       "      <td>614</td>\n",
       "      <td>Aug-2003</td>\n",
       "      <td>796</td>\n",
       "      <td>0.000000</td>\n",
       "    </tr>\n",
       "    <tr>\n",
       "      <th>revol_util</th>\n",
       "      <td>99060</td>\n",
       "      <td>1086</td>\n",
       "      <td>0%</td>\n",
       "      <td>440</td>\n",
       "      <td>0.000605</td>\n",
       "    </tr>\n",
       "    <tr>\n",
       "      <th>initial_list_status</th>\n",
       "      <td>99120</td>\n",
       "      <td>2</td>\n",
       "      <td>w</td>\n",
       "      <td>71869</td>\n",
       "      <td>0.000000</td>\n",
       "    </tr>\n",
       "    <tr>\n",
       "      <th>last_pymnt_d</th>\n",
       "      <td>98991</td>\n",
       "      <td>12</td>\n",
       "      <td>Jun-2017</td>\n",
       "      <td>81082</td>\n",
       "      <td>0.001301</td>\n",
       "    </tr>\n",
       "    <tr>\n",
       "      <th>next_pymnt_d</th>\n",
       "      <td>83552</td>\n",
       "      <td>3</td>\n",
       "      <td>Jul-2017</td>\n",
       "      <td>83527</td>\n",
       "      <td>0.157062</td>\n",
       "    </tr>\n",
       "    <tr>\n",
       "      <th>last_credit_pull_d</th>\n",
       "      <td>99115</td>\n",
       "      <td>13</td>\n",
       "      <td>Jun-2017</td>\n",
       "      <td>89280</td>\n",
       "      <td>0.000050</td>\n",
       "    </tr>\n",
       "    <tr>\n",
       "      <th>application_type</th>\n",
       "      <td>99120</td>\n",
       "      <td>3</td>\n",
       "      <td>INDIVIDUAL</td>\n",
       "      <td>98565</td>\n",
       "      <td>0.000000</td>\n",
       "    </tr>\n",
       "    <tr>\n",
       "      <th>verification_status_joint</th>\n",
       "      <td>517</td>\n",
       "      <td>1</td>\n",
       "      <td>Not Verified</td>\n",
       "      <td>517</td>\n",
       "      <td>0.994784</td>\n",
       "    </tr>\n",
       "  </tbody>\n",
       "</table>\n",
       "</div>"
      ],
      "text/plain": [
       "                           count unique                 top   freq  \\\n",
       "term                       99120      2           36 months  73898   \n",
       "grade                      99120      7                   C  32846   \n",
       "sub_grade                  99120     35                  B5   8322   \n",
       "home_ownership             99120      4            MORTGAGE  46761   \n",
       "verification_status        99120      3     Source Verified  40781   \n",
       "issue_d                    99120      3            Aug-2016  36280   \n",
       "loan_status                99120      7             Current  79445   \n",
       "pymnt_plan                 99120      2                   n  99074   \n",
       "desc                           6      5                          2   \n",
       "purpose                    99120     13  debt_consolidation  57682   \n",
       "title                      93693     12  Debt consolidation  53999   \n",
       "zip_code                   99120    873               112xx   1125   \n",
       "addr_state                 99120     50                  CA  13352   \n",
       "earliest_cr_line           99120    614            Aug-2003    796   \n",
       "revol_util                 99060   1086                  0%    440   \n",
       "initial_list_status        99120      2                   w  71869   \n",
       "last_pymnt_d               98991     12            Jun-2017  81082   \n",
       "next_pymnt_d               83552      3            Jul-2017  83527   \n",
       "last_credit_pull_d         99115     13            Jun-2017  89280   \n",
       "application_type           99120      3          INDIVIDUAL  98565   \n",
       "verification_status_joint    517      1        Not Verified    517   \n",
       "\n",
       "                           missing_pct  \n",
       "term                          0.000000  \n",
       "grade                         0.000000  \n",
       "sub_grade                     0.000000  \n",
       "home_ownership                0.000000  \n",
       "verification_status           0.000000  \n",
       "issue_d                       0.000000  \n",
       "loan_status                   0.000000  \n",
       "pymnt_plan                    0.000000  \n",
       "desc                          0.999939  \n",
       "purpose                       0.000000  \n",
       "title                         0.054752  \n",
       "zip_code                      0.000000  \n",
       "addr_state                    0.000000  \n",
       "earliest_cr_line              0.000000  \n",
       "revol_util                    0.000605  \n",
       "initial_list_status           0.000000  \n",
       "last_pymnt_d                  0.001301  \n",
       "next_pymnt_d                  0.157062  \n",
       "last_credit_pull_d            0.000050  \n",
       "application_type              0.000000  \n",
       "verification_status_joint     0.994784  "
      ]
     },
     "execution_count": 33,
     "metadata": {},
     "output_type": "execute_result"
    }
   ],
   "source": [
    "# 处理对象类型的缺失，unique\n",
    "df.select_dtypes(include=['O']).describe().T.\\\n",
    "assign(missing_pct=df.apply(lambda x : (len(x)-x.count())/float(len(x))))"
   ]
  },
  {
   "cell_type": "code",
   "execution_count": 34,
   "metadata": {
    "collapsed": true
   },
   "outputs": [],
   "source": [
    "df.revol_util = pd.Series(df.revol_util).str.replace('%', '').astype(float)"
   ]
  },
  {
   "cell_type": "code",
   "execution_count": 35,
   "metadata": {
    "collapsed": true
   },
   "outputs": [],
   "source": [
    "# missing_pct\n",
    "df.drop('desc',1,inplace=True)\n",
    "df.drop('verification_status_joint',1,inplace=True)"
   ]
  },
  {
   "cell_type": "code",
   "execution_count": 36,
   "metadata": {
    "collapsed": true
   },
   "outputs": [],
   "source": [
    "df.drop('zip_code',1,inplace=True)\n",
    "df.drop('addr_state',1,inplace=True)\n",
    "df.drop('earliest_cr_line',1,inplace=True)\n",
    "df.drop('revol_util',1,inplace=True)\n",
    "df.drop('purpose',1,inplace=True)\n",
    "df.drop('title',1,inplace=True)\n",
    "df.drop('term',1,inplace=True)\n",
    "df.drop('issue_d',1,inplace=True)\n",
    "# df.drop('',1,inplace=True)\n",
    "# 贷后相关的字段\n",
    "df.drop(['out_prncp','out_prncp_inv','total_pymnt',\n",
    "         'total_pymnt_inv','total_rec_prncp', 'grade', 'sub_grade'] ,1, inplace=True)\n",
    "df.drop(['total_rec_int','total_rec_late_fee',\n",
    "         'recoveries','collection_recovery_fee',\n",
    "         'collection_recovery_fee' ],1, inplace=True)\n",
    "df.drop(['last_pymnt_d','last_pymnt_amnt',\n",
    "         'next_pymnt_d','last_credit_pull_d'],1, inplace=True)\n",
    "df.drop(['policy_code'],1, inplace=True)"
   ]
  },
  {
   "cell_type": "code",
   "execution_count": 37,
   "metadata": {},
   "outputs": [
    {
     "name": "stdout",
     "output_type": "stream",
     "text": [
      "<class 'pandas.core.frame.DataFrame'>\n",
      "Int64Index: 99120 entries, 0 to 99119\n",
      "Data columns (total 81 columns):\n",
      " #   Column                          Non-Null Count  Dtype  \n",
      "---  ------                          --------------  -----  \n",
      " 0   loan_amnt                       99120 non-null  float64\n",
      " 1   funded_amnt                     99120 non-null  float64\n",
      " 2   funded_amnt_inv                 99120 non-null  float64\n",
      " 3   int_rate                        99120 non-null  float64\n",
      " 4   installment                     99120 non-null  float64\n",
      " 5   emp_length                      99120 non-null  int32  \n",
      " 6   home_ownership                  99120 non-null  object \n",
      " 7   annual_inc                      99120 non-null  float64\n",
      " 8   verification_status             99120 non-null  object \n",
      " 9   loan_status                     99120 non-null  object \n",
      " 10  pymnt_plan                      99120 non-null  object \n",
      " 11  dti                             99120 non-null  float64\n",
      " 12  delinq_2yrs                     99120 non-null  float64\n",
      " 13  inq_last_6mths                  99120 non-null  float64\n",
      " 14  mths_since_last_delinq          53366 non-null  float64\n",
      " 15  mths_since_last_record          19792 non-null  float64\n",
      " 16  open_acc                        99120 non-null  float64\n",
      " 17  pub_rec                         99120 non-null  float64\n",
      " 18  revol_bal                       99120 non-null  float64\n",
      " 19  total_acc                       99120 non-null  float64\n",
      " 20  initial_list_status             99120 non-null  object \n",
      " 21  collections_12_mths_ex_med      99120 non-null  float64\n",
      " 22  mths_since_last_major_derog     29372 non-null  float64\n",
      " 23  application_type                99120 non-null  object \n",
      " 24  annual_inc_joint                517 non-null    float64\n",
      " 25  dti_joint                       517 non-null    float64\n",
      " 26  acc_now_delinq                  99120 non-null  float64\n",
      " 27  tot_coll_amt                    99120 non-null  float64\n",
      " 28  tot_cur_bal                     99120 non-null  float64\n",
      " 29  open_acc_6m                     99120 non-null  float64\n",
      " 30  open_il_6m                      99120 non-null  float64\n",
      " 31  open_il_12m                     99120 non-null  float64\n",
      " 32  open_il_24m                     99120 non-null  float64\n",
      " 33  mths_since_rcnt_il              96469 non-null  float64\n",
      " 34  total_bal_il                    99120 non-null  float64\n",
      " 35  il_util                         85480 non-null  float64\n",
      " 36  open_rv_12m                     99120 non-null  float64\n",
      " 37  open_rv_24m                     99120 non-null  float64\n",
      " 38  max_bal_bc                      99120 non-null  float64\n",
      " 39  all_util                        99114 non-null  float64\n",
      " 40  total_rev_hi_lim                99120 non-null  float64\n",
      " 41  inq_fi                          99120 non-null  float64\n",
      " 42  total_cu_tl                     99120 non-null  float64\n",
      " 43  inq_last_12m                    99120 non-null  float64\n",
      " 44  acc_open_past_24mths            99120 non-null  float64\n",
      " 45  avg_cur_bal                     99120 non-null  float64\n",
      " 46  bc_open_to_buy                  98010 non-null  float64\n",
      " 47  bc_util                         97971 non-null  float64\n",
      " 48  chargeoff_within_12_mths        99120 non-null  float64\n",
      " 49  delinq_amnt                     99120 non-null  float64\n",
      " 50  mo_sin_old_il_acct              96469 non-null  float64\n",
      " 51  mo_sin_old_rev_tl_op            99120 non-null  float64\n",
      " 52  mo_sin_rcnt_rev_tl_op           99120 non-null  float64\n",
      " 53  mo_sin_rcnt_tl                  99120 non-null  float64\n",
      " 54  mort_acc                        99120 non-null  float64\n",
      " 55  mths_since_recent_bc            98067 non-null  float64\n",
      " 56  mths_since_recent_bc_dlq        26018 non-null  float64\n",
      " 57  mths_since_recent_inq           89254 non-null  float64\n",
      " 58  mths_since_recent_revol_delinq  36606 non-null  float64\n",
      " 59  num_accts_ever_120_pd           99120 non-null  float64\n",
      " 60  num_actv_bc_tl                  99120 non-null  float64\n",
      " 61  num_actv_rev_tl                 99120 non-null  float64\n",
      " 62  num_bc_sats                     99120 non-null  float64\n",
      " 63  num_bc_tl                       99120 non-null  float64\n",
      " 64  num_il_tl                       99120 non-null  float64\n",
      " 65  num_op_rev_tl                   99120 non-null  float64\n",
      " 66  num_rev_accts                   99120 non-null  float64\n",
      " 67  num_rev_tl_bal_gt_0             99120 non-null  float64\n",
      " 68  num_sats                        99120 non-null  float64\n",
      " 69  num_tl_120dpd_2m                95661 non-null  float64\n",
      " 70  num_tl_30dpd                    99120 non-null  float64\n",
      " 71  num_tl_90g_dpd_24m              99120 non-null  float64\n",
      " 72  num_tl_op_past_12m              99120 non-null  float64\n",
      " 73  pct_tl_nvr_dlq                  99120 non-null  float64\n",
      " 74  percent_bc_gt_75                98006 non-null  float64\n",
      " 75  pub_rec_bankruptcies            99120 non-null  float64\n",
      " 76  tax_liens                       99120 non-null  float64\n",
      " 77  tot_hi_cred_lim                 99120 non-null  float64\n",
      " 78  total_bal_ex_mort               99120 non-null  float64\n",
      " 79  total_bc_limit                  99120 non-null  float64\n",
      " 80  total_il_high_credit_limit      99120 non-null  float64\n",
      "dtypes: float64(74), int32(1), object(6)\n",
      "memory usage: 61.6+ MB\n"
     ]
    }
   ],
   "source": [
    "df.info()"
   ]
  },
  {
   "cell_type": "code",
   "execution_count": 39,
   "metadata": {},
   "outputs": [
    {
     "data": {
      "text/html": [
       "<div>\n",
       "<style scoped>\n",
       "    .dataframe tbody tr th:only-of-type {\n",
       "        vertical-align: middle;\n",
       "    }\n",
       "\n",
       "    .dataframe tbody tr th {\n",
       "        vertical-align: top;\n",
       "    }\n",
       "\n",
       "    .dataframe thead th {\n",
       "        text-align: right;\n",
       "    }\n",
       "</style>\n",
       "<table border=\"1\" class=\"dataframe\">\n",
       "  <thead>\n",
       "    <tr style=\"text-align: right;\">\n",
       "      <th></th>\n",
       "      <th>loan_amnt</th>\n",
       "      <th>funded_amnt</th>\n",
       "      <th>funded_amnt_inv</th>\n",
       "      <th>int_rate</th>\n",
       "      <th>installment</th>\n",
       "      <th>emp_length</th>\n",
       "      <th>home_ownership</th>\n",
       "      <th>annual_inc</th>\n",
       "      <th>verification_status</th>\n",
       "      <th>loan_status</th>\n",
       "    </tr>\n",
       "  </thead>\n",
       "  <tbody>\n",
       "    <tr>\n",
       "      <th>0</th>\n",
       "      <td>15000.0</td>\n",
       "      <td>15000.0</td>\n",
       "      <td>15000.0</td>\n",
       "      <td>13.99</td>\n",
       "      <td>512.60</td>\n",
       "      <td>2</td>\n",
       "      <td>RENT</td>\n",
       "      <td>55000.0</td>\n",
       "      <td>Not Verified</td>\n",
       "      <td>Current</td>\n",
       "    </tr>\n",
       "    <tr>\n",
       "      <th>1</th>\n",
       "      <td>2600.0</td>\n",
       "      <td>2600.0</td>\n",
       "      <td>2600.0</td>\n",
       "      <td>8.99</td>\n",
       "      <td>82.67</td>\n",
       "      <td>3</td>\n",
       "      <td>RENT</td>\n",
       "      <td>35000.0</td>\n",
       "      <td>Source Verified</td>\n",
       "      <td>Fully Paid</td>\n",
       "    </tr>\n",
       "    <tr>\n",
       "      <th>2</th>\n",
       "      <td>32200.0</td>\n",
       "      <td>32200.0</td>\n",
       "      <td>32200.0</td>\n",
       "      <td>21.49</td>\n",
       "      <td>880.02</td>\n",
       "      <td>10</td>\n",
       "      <td>MORTGAGE</td>\n",
       "      <td>65000.0</td>\n",
       "      <td>Not Verified</td>\n",
       "      <td>Fully Paid</td>\n",
       "    </tr>\n",
       "    <tr>\n",
       "      <th>3</th>\n",
       "      <td>10000.0</td>\n",
       "      <td>10000.0</td>\n",
       "      <td>10000.0</td>\n",
       "      <td>11.49</td>\n",
       "      <td>329.72</td>\n",
       "      <td>10</td>\n",
       "      <td>OWN</td>\n",
       "      <td>55900.0</td>\n",
       "      <td>Not Verified</td>\n",
       "      <td>Current</td>\n",
       "    </tr>\n",
       "    <tr>\n",
       "      <th>4</th>\n",
       "      <td>6000.0</td>\n",
       "      <td>6000.0</td>\n",
       "      <td>6000.0</td>\n",
       "      <td>13.49</td>\n",
       "      <td>203.59</td>\n",
       "      <td>5</td>\n",
       "      <td>RENT</td>\n",
       "      <td>33000.0</td>\n",
       "      <td>Not Verified</td>\n",
       "      <td>Current</td>\n",
       "    </tr>\n",
       "  </tbody>\n",
       "</table>\n",
       "</div>"
      ],
      "text/plain": [
       "   loan_amnt  funded_amnt  funded_amnt_inv  int_rate  installment  emp_length  \\\n",
       "0    15000.0      15000.0          15000.0     13.99       512.60           2   \n",
       "1     2600.0       2600.0           2600.0      8.99        82.67           3   \n",
       "2    32200.0      32200.0          32200.0     21.49       880.02          10   \n",
       "3    10000.0      10000.0          10000.0     11.49       329.72          10   \n",
       "4     6000.0       6000.0           6000.0     13.49       203.59           5   \n",
       "\n",
       "  home_ownership  annual_inc verification_status loan_status  \n",
       "0           RENT     55000.0        Not Verified     Current  \n",
       "1           RENT     35000.0     Source Verified  Fully Paid  \n",
       "2       MORTGAGE     65000.0        Not Verified  Fully Paid  \n",
       "3            OWN     55900.0        Not Verified     Current  \n",
       "4           RENT     33000.0        Not Verified     Current  "
      ]
     },
     "execution_count": 39,
     "metadata": {},
     "output_type": "execute_result"
    }
   ],
   "source": [
    "df.iloc[:5,:10]"
   ]
  },
  {
   "cell_type": "code",
   "execution_count": 42,
   "metadata": {},
   "outputs": [
    {
     "data": {
      "text/html": [
       "<div>\n",
       "<style scoped>\n",
       "    .dataframe tbody tr th:only-of-type {\n",
       "        vertical-align: middle;\n",
       "    }\n",
       "\n",
       "    .dataframe tbody tr th {\n",
       "        vertical-align: top;\n",
       "    }\n",
       "\n",
       "    .dataframe thead th {\n",
       "        text-align: right;\n",
       "    }\n",
       "</style>\n",
       "<table border=\"1\" class=\"dataframe\">\n",
       "  <thead>\n",
       "    <tr style=\"text-align: right;\">\n",
       "      <th></th>\n",
       "      <th>pymnt_plan</th>\n",
       "      <th>dti</th>\n",
       "      <th>delinq_2yrs</th>\n",
       "      <th>inq_last_6mths</th>\n",
       "      <th>mths_since_last_delinq</th>\n",
       "      <th>mths_since_last_record</th>\n",
       "      <th>open_acc</th>\n",
       "      <th>pub_rec</th>\n",
       "      <th>revol_bal</th>\n",
       "      <th>total_acc</th>\n",
       "      <th>initial_list_status</th>\n",
       "    </tr>\n",
       "  </thead>\n",
       "  <tbody>\n",
       "    <tr>\n",
       "      <th>0</th>\n",
       "      <td>n</td>\n",
       "      <td>23.78</td>\n",
       "      <td>1.0</td>\n",
       "      <td>0.0</td>\n",
       "      <td>7.0</td>\n",
       "      <td>NaN</td>\n",
       "      <td>22.0</td>\n",
       "      <td>0.0</td>\n",
       "      <td>21345.0</td>\n",
       "      <td>43.0</td>\n",
       "      <td>f</td>\n",
       "    </tr>\n",
       "    <tr>\n",
       "      <th>1</th>\n",
       "      <td>n</td>\n",
       "      <td>6.73</td>\n",
       "      <td>0.0</td>\n",
       "      <td>0.0</td>\n",
       "      <td>NaN</td>\n",
       "      <td>NaN</td>\n",
       "      <td>14.0</td>\n",
       "      <td>0.0</td>\n",
       "      <td>720.0</td>\n",
       "      <td>24.0</td>\n",
       "      <td>w</td>\n",
       "    </tr>\n",
       "    <tr>\n",
       "      <th>2</th>\n",
       "      <td>n</td>\n",
       "      <td>11.71</td>\n",
       "      <td>0.0</td>\n",
       "      <td>1.0</td>\n",
       "      <td>NaN</td>\n",
       "      <td>87.0</td>\n",
       "      <td>17.0</td>\n",
       "      <td>1.0</td>\n",
       "      <td>11987.0</td>\n",
       "      <td>34.0</td>\n",
       "      <td>w</td>\n",
       "    </tr>\n",
       "    <tr>\n",
       "      <th>3</th>\n",
       "      <td>n</td>\n",
       "      <td>26.21</td>\n",
       "      <td>0.0</td>\n",
       "      <td>2.0</td>\n",
       "      <td>NaN</td>\n",
       "      <td>NaN</td>\n",
       "      <td>15.0</td>\n",
       "      <td>0.0</td>\n",
       "      <td>17209.0</td>\n",
       "      <td>62.0</td>\n",
       "      <td>w</td>\n",
       "    </tr>\n",
       "    <tr>\n",
       "      <th>4</th>\n",
       "      <td>n</td>\n",
       "      <td>19.05</td>\n",
       "      <td>0.0</td>\n",
       "      <td>0.0</td>\n",
       "      <td>NaN</td>\n",
       "      <td>NaN</td>\n",
       "      <td>3.0</td>\n",
       "      <td>0.0</td>\n",
       "      <td>4576.0</td>\n",
       "      <td>11.0</td>\n",
       "      <td>f</td>\n",
       "    </tr>\n",
       "  </tbody>\n",
       "</table>\n",
       "</div>"
      ],
      "text/plain": [
       "  pymnt_plan    dti  delinq_2yrs  inq_last_6mths  mths_since_last_delinq  \\\n",
       "0          n  23.78          1.0             0.0                     7.0   \n",
       "1          n   6.73          0.0             0.0                     NaN   \n",
       "2          n  11.71          0.0             1.0                     NaN   \n",
       "3          n  26.21          0.0             2.0                     NaN   \n",
       "4          n  19.05          0.0             0.0                     NaN   \n",
       "\n",
       "   mths_since_last_record  open_acc  pub_rec  revol_bal  total_acc  \\\n",
       "0                     NaN      22.0      0.0    21345.0       43.0   \n",
       "1                     NaN      14.0      0.0      720.0       24.0   \n",
       "2                    87.0      17.0      1.0    11987.0       34.0   \n",
       "3                     NaN      15.0      0.0    17209.0       62.0   \n",
       "4                     NaN       3.0      0.0     4576.0       11.0   \n",
       "\n",
       "  initial_list_status  \n",
       "0                   f  \n",
       "1                   w  \n",
       "2                   w  \n",
       "3                   w  \n",
       "4                   f  "
      ]
     },
     "execution_count": 42,
     "metadata": {},
     "output_type": "execute_result"
    }
   ],
   "source": [
    "df.iloc[:5,10:21]"
   ]
  },
  {
   "cell_type": "code",
   "execution_count": 41,
   "metadata": {},
   "outputs": [
    {
     "name": "stdout",
     "output_type": "stream",
     "text": [
      "Index(['loan_amnt', 'funded_amnt', 'funded_amnt_inv', 'int_rate',\n",
      "       'installment', 'emp_length', 'home_ownership', 'annual_inc',\n",
      "       'verification_status', 'loan_status', 'pymnt_plan', 'dti',\n",
      "       'delinq_2yrs', 'inq_last_6mths', 'mths_since_last_delinq',\n",
      "       'mths_since_last_record', 'open_acc', 'pub_rec', 'revol_bal',\n",
      "       'total_acc', 'initial_list_status', 'collections_12_mths_ex_med',\n",
      "       'mths_since_last_major_derog', 'application_type', 'annual_inc_joint',\n",
      "       'dti_joint', 'acc_now_delinq', 'tot_coll_amt', 'tot_cur_bal',\n",
      "       'open_acc_6m', 'open_il_6m', 'open_il_12m', 'open_il_24m',\n",
      "       'mths_since_rcnt_il', 'total_bal_il', 'il_util', 'open_rv_12m',\n",
      "       'open_rv_24m', 'max_bal_bc', 'all_util', 'total_rev_hi_lim', 'inq_fi',\n",
      "       'total_cu_tl', 'inq_last_12m', 'acc_open_past_24mths', 'avg_cur_bal',\n",
      "       'bc_open_to_buy', 'bc_util', 'chargeoff_within_12_mths', 'delinq_amnt',\n",
      "       'mo_sin_old_il_acct', 'mo_sin_old_rev_tl_op', 'mo_sin_rcnt_rev_tl_op',\n",
      "       'mo_sin_rcnt_tl', 'mort_acc', 'mths_since_recent_bc',\n",
      "       'mths_since_recent_bc_dlq', 'mths_since_recent_inq',\n",
      "       'mths_since_recent_revol_delinq', 'num_accts_ever_120_pd',\n",
      "       'num_actv_bc_tl', 'num_actv_rev_tl', 'num_bc_sats', 'num_bc_tl',\n",
      "       'num_il_tl', 'num_op_rev_tl', 'num_rev_accts', 'num_rev_tl_bal_gt_0',\n",
      "       'num_sats', 'num_tl_120dpd_2m', 'num_tl_30dpd', 'num_tl_90g_dpd_24m',\n",
      "       'num_tl_op_past_12m', 'pct_tl_nvr_dlq', 'percent_bc_gt_75',\n",
      "       'pub_rec_bankruptcies', 'tax_liens', 'tot_hi_cred_lim',\n",
      "       'total_bal_ex_mort', 'total_bc_limit', 'total_il_high_credit_limit'],\n",
      "      dtype='object')\n",
      "[[15000.0 15000.0 15000.0 13.99 512.6 2 'RENT' 55000.0 'Not Verified'\n",
      "  'Current' 'n' 23.78 1.0 0.0 7.0 nan 22.0 0.0 21345.0 43.0 'f' 0.0 nan\n",
      "  'INDIVIDUAL' nan nan 0.0 0.0 140492.0 3.0 10.0 2.0 3.0 11.0 119147.0\n",
      "  101.0 3.0 4.0 14612.0 83.0 39000.0 1.0 6.0 0.0 7.0 6386.0 9645.0 73.1\n",
      "  0.0 0.0 157.0 248.0 4.0 4.0 0.0 4.0 7.0 22.0 7.0 0.0 5.0 9.0 6.0 7.0\n",
      "  25.0 11.0 18.0 9.0 22.0 0.0 0.0 0.0 5.0 100.0 33.3 0.0 0.0 147587.0\n",
      "  140492.0 30200.0 108587.0]]\n",
      "<class 'pandas.core.frame.DataFrame'>\n",
      "Int64Index: 99120 entries, 0 to 99119\n",
      "Data columns (total 81 columns):\n",
      " #   Column                          Non-Null Count  Dtype  \n",
      "---  ------                          --------------  -----  \n",
      " 0   loan_amnt                       99120 non-null  float64\n",
      " 1   funded_amnt                     99120 non-null  float64\n",
      " 2   funded_amnt_inv                 99120 non-null  float64\n",
      " 3   int_rate                        99120 non-null  float64\n",
      " 4   installment                     99120 non-null  float64\n",
      " 5   emp_length                      99120 non-null  int32  \n",
      " 6   home_ownership                  99120 non-null  object \n",
      " 7   annual_inc                      99120 non-null  float64\n",
      " 8   verification_status             99120 non-null  object \n",
      " 9   loan_status                     99120 non-null  object \n",
      " 10  pymnt_plan                      99120 non-null  object \n",
      " 11  dti                             99120 non-null  float64\n",
      " 12  delinq_2yrs                     99120 non-null  float64\n",
      " 13  inq_last_6mths                  99120 non-null  float64\n",
      " 14  mths_since_last_delinq          53366 non-null  float64\n",
      " 15  mths_since_last_record          19792 non-null  float64\n",
      " 16  open_acc                        99120 non-null  float64\n",
      " 17  pub_rec                         99120 non-null  float64\n",
      " 18  revol_bal                       99120 non-null  float64\n",
      " 19  total_acc                       99120 non-null  float64\n",
      " 20  initial_list_status             99120 non-null  object \n",
      " 21  collections_12_mths_ex_med      99120 non-null  float64\n",
      " 22  mths_since_last_major_derog     29372 non-null  float64\n",
      " 23  application_type                99120 non-null  object \n",
      " 24  annual_inc_joint                517 non-null    float64\n",
      " 25  dti_joint                       517 non-null    float64\n",
      " 26  acc_now_delinq                  99120 non-null  float64\n",
      " 27  tot_coll_amt                    99120 non-null  float64\n",
      " 28  tot_cur_bal                     99120 non-null  float64\n",
      " 29  open_acc_6m                     99120 non-null  float64\n",
      " 30  open_il_6m                      99120 non-null  float64\n",
      " 31  open_il_12m                     99120 non-null  float64\n",
      " 32  open_il_24m                     99120 non-null  float64\n",
      " 33  mths_since_rcnt_il              96469 non-null  float64\n",
      " 34  total_bal_il                    99120 non-null  float64\n",
      " 35  il_util                         85480 non-null  float64\n",
      " 36  open_rv_12m                     99120 non-null  float64\n",
      " 37  open_rv_24m                     99120 non-null  float64\n",
      " 38  max_bal_bc                      99120 non-null  float64\n",
      " 39  all_util                        99114 non-null  float64\n",
      " 40  total_rev_hi_lim                99120 non-null  float64\n",
      " 41  inq_fi                          99120 non-null  float64\n",
      " 42  total_cu_tl                     99120 non-null  float64\n",
      " 43  inq_last_12m                    99120 non-null  float64\n",
      " 44  acc_open_past_24mths            99120 non-null  float64\n",
      " 45  avg_cur_bal                     99120 non-null  float64\n",
      " 46  bc_open_to_buy                  98010 non-null  float64\n",
      " 47  bc_util                         97971 non-null  float64\n",
      " 48  chargeoff_within_12_mths        99120 non-null  float64\n",
      " 49  delinq_amnt                     99120 non-null  float64\n",
      " 50  mo_sin_old_il_acct              96469 non-null  float64\n",
      " 51  mo_sin_old_rev_tl_op            99120 non-null  float64\n",
      " 52  mo_sin_rcnt_rev_tl_op           99120 non-null  float64\n",
      " 53  mo_sin_rcnt_tl                  99120 non-null  float64\n",
      " 54  mort_acc                        99120 non-null  float64\n",
      " 55  mths_since_recent_bc            98067 non-null  float64\n",
      " 56  mths_since_recent_bc_dlq        26018 non-null  float64\n",
      " 57  mths_since_recent_inq           89254 non-null  float64\n",
      " 58  mths_since_recent_revol_delinq  36606 non-null  float64\n",
      " 59  num_accts_ever_120_pd           99120 non-null  float64\n",
      " 60  num_actv_bc_tl                  99120 non-null  float64\n",
      " 61  num_actv_rev_tl                 99120 non-null  float64\n",
      " 62  num_bc_sats                     99120 non-null  float64\n",
      " 63  num_bc_tl                       99120 non-null  float64\n",
      " 64  num_il_tl                       99120 non-null  float64\n",
      " 65  num_op_rev_tl                   99120 non-null  float64\n",
      " 66  num_rev_accts                   99120 non-null  float64\n",
      " 67  num_rev_tl_bal_gt_0             99120 non-null  float64\n",
      " 68  num_sats                        99120 non-null  float64\n",
      " 69  num_tl_120dpd_2m                95661 non-null  float64\n",
      " 70  num_tl_30dpd                    99120 non-null  float64\n",
      " 71  num_tl_90g_dpd_24m              99120 non-null  float64\n",
      " 72  num_tl_op_past_12m              99120 non-null  float64\n",
      " 73  pct_tl_nvr_dlq                  99120 non-null  float64\n",
      " 74  percent_bc_gt_75                98006 non-null  float64\n",
      " 75  pub_rec_bankruptcies            99120 non-null  float64\n",
      " 76  tax_liens                       99120 non-null  float64\n",
      " 77  tot_hi_cred_lim                 99120 non-null  float64\n",
      " 78  total_bal_ex_mort               99120 non-null  float64\n",
      " 79  total_bc_limit                  99120 non-null  float64\n",
      " 80  total_il_high_credit_limit      99120 non-null  float64\n",
      "dtypes: float64(74), int32(1), object(6)\n",
      "memory usage: 61.6+ MB\n"
     ]
    }
   ],
   "source": [
    "print(df.columns)\n",
    "print(df.head(1).values)\n",
    "df.info()"
   ]
  },
  {
   "cell_type": "code",
   "execution_count": 43,
   "metadata": {},
   "outputs": [
    {
     "data": {
      "text/html": [
       "<div>\n",
       "<style scoped>\n",
       "    .dataframe tbody tr th:only-of-type {\n",
       "        vertical-align: middle;\n",
       "    }\n",
       "\n",
       "    .dataframe tbody tr th {\n",
       "        vertical-align: top;\n",
       "    }\n",
       "\n",
       "    .dataframe thead th {\n",
       "        text-align: right;\n",
       "    }\n",
       "</style>\n",
       "<table border=\"1\" class=\"dataframe\">\n",
       "  <thead>\n",
       "    <tr style=\"text-align: right;\">\n",
       "      <th></th>\n",
       "      <th>count</th>\n",
       "      <th>mean</th>\n",
       "      <th>std</th>\n",
       "      <th>min</th>\n",
       "      <th>25%</th>\n",
       "      <th>50%</th>\n",
       "      <th>75%</th>\n",
       "      <th>max</th>\n",
       "      <th>missing_pct</th>\n",
       "    </tr>\n",
       "  </thead>\n",
       "  <tbody>\n",
       "    <tr>\n",
       "      <th>loan_amnt</th>\n",
       "      <td>99120.0</td>\n",
       "      <td>14170.570521</td>\n",
       "      <td>8886.138758</td>\n",
       "      <td>1000.00</td>\n",
       "      <td>7200.00</td>\n",
       "      <td>12000.00</td>\n",
       "      <td>20000.00</td>\n",
       "      <td>40000.00</td>\n",
       "      <td>0.0</td>\n",
       "    </tr>\n",
       "    <tr>\n",
       "      <th>funded_amnt</th>\n",
       "      <td>99120.0</td>\n",
       "      <td>14170.570521</td>\n",
       "      <td>8886.138758</td>\n",
       "      <td>1000.00</td>\n",
       "      <td>7200.00</td>\n",
       "      <td>12000.00</td>\n",
       "      <td>20000.00</td>\n",
       "      <td>40000.00</td>\n",
       "      <td>0.0</td>\n",
       "    </tr>\n",
       "    <tr>\n",
       "      <th>funded_amnt_inv</th>\n",
       "      <td>99120.0</td>\n",
       "      <td>14166.087823</td>\n",
       "      <td>8883.301328</td>\n",
       "      <td>1000.00</td>\n",
       "      <td>7200.00</td>\n",
       "      <td>12000.00</td>\n",
       "      <td>20000.00</td>\n",
       "      <td>40000.00</td>\n",
       "      <td>0.0</td>\n",
       "    </tr>\n",
       "    <tr>\n",
       "      <th>int_rate</th>\n",
       "      <td>99120.0</td>\n",
       "      <td>13.723641</td>\n",
       "      <td>4.873910</td>\n",
       "      <td>5.32</td>\n",
       "      <td>10.49</td>\n",
       "      <td>12.79</td>\n",
       "      <td>15.59</td>\n",
       "      <td>30.99</td>\n",
       "      <td>0.0</td>\n",
       "    </tr>\n",
       "    <tr>\n",
       "      <th>installment</th>\n",
       "      <td>99120.0</td>\n",
       "      <td>432.718654</td>\n",
       "      <td>272.678596</td>\n",
       "      <td>30.12</td>\n",
       "      <td>235.24</td>\n",
       "      <td>361.38</td>\n",
       "      <td>569.83</td>\n",
       "      <td>1535.71</td>\n",
       "      <td>0.0</td>\n",
       "    </tr>\n",
       "    <tr>\n",
       "      <th>...</th>\n",
       "      <td>...</td>\n",
       "      <td>...</td>\n",
       "      <td>...</td>\n",
       "      <td>...</td>\n",
       "      <td>...</td>\n",
       "      <td>...</td>\n",
       "      <td>...</td>\n",
       "      <td>...</td>\n",
       "      <td>...</td>\n",
       "    </tr>\n",
       "    <tr>\n",
       "      <th>tax_liens</th>\n",
       "      <td>99120.0</td>\n",
       "      <td>0.075393</td>\n",
       "      <td>0.517275</td>\n",
       "      <td>0.00</td>\n",
       "      <td>0.00</td>\n",
       "      <td>0.00</td>\n",
       "      <td>0.00</td>\n",
       "      <td>61.00</td>\n",
       "      <td>0.0</td>\n",
       "    </tr>\n",
       "    <tr>\n",
       "      <th>tot_hi_cred_lim</th>\n",
       "      <td>99120.0</td>\n",
       "      <td>172185.283394</td>\n",
       "      <td>175273.669652</td>\n",
       "      <td>2500.00</td>\n",
       "      <td>49130.75</td>\n",
       "      <td>108020.50</td>\n",
       "      <td>248473.25</td>\n",
       "      <td>3953111.00</td>\n",
       "      <td>0.0</td>\n",
       "    </tr>\n",
       "    <tr>\n",
       "      <th>total_bal_ex_mort</th>\n",
       "      <td>99120.0</td>\n",
       "      <td>50818.694078</td>\n",
       "      <td>48976.640478</td>\n",
       "      <td>0.00</td>\n",
       "      <td>20913.00</td>\n",
       "      <td>37747.50</td>\n",
       "      <td>64216.25</td>\n",
       "      <td>1548128.00</td>\n",
       "      <td>0.0</td>\n",
       "    </tr>\n",
       "    <tr>\n",
       "      <th>total_bc_limit</th>\n",
       "      <td>99120.0</td>\n",
       "      <td>20862.228420</td>\n",
       "      <td>20721.900664</td>\n",
       "      <td>0.00</td>\n",
       "      <td>7700.00</td>\n",
       "      <td>14700.00</td>\n",
       "      <td>27000.00</td>\n",
       "      <td>520500.00</td>\n",
       "      <td>0.0</td>\n",
       "    </tr>\n",
       "    <tr>\n",
       "      <th>total_il_high_credit_limit</th>\n",
       "      <td>99120.0</td>\n",
       "      <td>44066.340375</td>\n",
       "      <td>44473.458730</td>\n",
       "      <td>0.00</td>\n",
       "      <td>15750.00</td>\n",
       "      <td>33183.00</td>\n",
       "      <td>58963.25</td>\n",
       "      <td>2000000.00</td>\n",
       "      <td>0.0</td>\n",
       "    </tr>\n",
       "  </tbody>\n",
       "</table>\n",
       "<p>74 rows × 9 columns</p>\n",
       "</div>"
      ],
      "text/plain": [
       "                              count           mean            std      min  \\\n",
       "loan_amnt                   99120.0   14170.570521    8886.138758  1000.00   \n",
       "funded_amnt                 99120.0   14170.570521    8886.138758  1000.00   \n",
       "funded_amnt_inv             99120.0   14166.087823    8883.301328  1000.00   \n",
       "int_rate                    99120.0      13.723641       4.873910     5.32   \n",
       "installment                 99120.0     432.718654     272.678596    30.12   \n",
       "...                             ...            ...            ...      ...   \n",
       "tax_liens                   99120.0       0.075393       0.517275     0.00   \n",
       "tot_hi_cred_lim             99120.0  172185.283394  175273.669652  2500.00   \n",
       "total_bal_ex_mort           99120.0   50818.694078   48976.640478     0.00   \n",
       "total_bc_limit              99120.0   20862.228420   20721.900664     0.00   \n",
       "total_il_high_credit_limit  99120.0   44066.340375   44473.458730     0.00   \n",
       "\n",
       "                                 25%        50%        75%         max  \\\n",
       "loan_amnt                    7200.00   12000.00   20000.00    40000.00   \n",
       "funded_amnt                  7200.00   12000.00   20000.00    40000.00   \n",
       "funded_amnt_inv              7200.00   12000.00   20000.00    40000.00   \n",
       "int_rate                       10.49      12.79      15.59       30.99   \n",
       "installment                   235.24     361.38     569.83     1535.71   \n",
       "...                              ...        ...        ...         ...   \n",
       "tax_liens                       0.00       0.00       0.00       61.00   \n",
       "tot_hi_cred_lim             49130.75  108020.50  248473.25  3953111.00   \n",
       "total_bal_ex_mort           20913.00   37747.50   64216.25  1548128.00   \n",
       "total_bc_limit               7700.00   14700.00   27000.00   520500.00   \n",
       "total_il_high_credit_limit  15750.00   33183.00   58963.25  2000000.00   \n",
       "\n",
       "                            missing_pct  \n",
       "loan_amnt                           0.0  \n",
       "funded_amnt                         0.0  \n",
       "funded_amnt_inv                     0.0  \n",
       "int_rate                            0.0  \n",
       "installment                         0.0  \n",
       "...                                 ...  \n",
       "tax_liens                           0.0  \n",
       "tot_hi_cred_lim                     0.0  \n",
       "total_bal_ex_mort                   0.0  \n",
       "total_bc_limit                      0.0  \n",
       "total_il_high_credit_limit          0.0  \n",
       "\n",
       "[74 rows x 9 columns]"
      ]
     },
     "execution_count": 43,
     "metadata": {},
     "output_type": "execute_result"
    }
   ],
   "source": [
    "df.select_dtypes(include=['float']).describe().T.\\\n",
    "assign(missing_pct=df.apply(lambda x : (len(x)-x.count())/float(len(x))))"
   ]
  },
  {
   "cell_type": "code",
   "execution_count": 44,
   "metadata": {
    "collapsed": true
   },
   "outputs": [],
   "source": [
    "df.drop('annual_inc_joint',1,inplace=True)\n",
    "df.drop('dti_joint',1,inplace=True)"
   ]
  },
  {
   "cell_type": "code",
   "execution_count": 45,
   "metadata": {},
   "outputs": [
    {
     "data": {
      "text/html": [
       "<div>\n",
       "<style scoped>\n",
       "    .dataframe tbody tr th:only-of-type {\n",
       "        vertical-align: middle;\n",
       "    }\n",
       "\n",
       "    .dataframe tbody tr th {\n",
       "        vertical-align: top;\n",
       "    }\n",
       "\n",
       "    .dataframe thead th {\n",
       "        text-align: right;\n",
       "    }\n",
       "</style>\n",
       "<table border=\"1\" class=\"dataframe\">\n",
       "  <thead>\n",
       "    <tr style=\"text-align: right;\">\n",
       "      <th></th>\n",
       "      <th>count</th>\n",
       "      <th>mean</th>\n",
       "      <th>std</th>\n",
       "      <th>min</th>\n",
       "      <th>25%</th>\n",
       "      <th>50%</th>\n",
       "      <th>75%</th>\n",
       "      <th>max</th>\n",
       "      <th>missing_pct</th>\n",
       "    </tr>\n",
       "  </thead>\n",
       "  <tbody>\n",
       "    <tr>\n",
       "      <th>emp_length</th>\n",
       "      <td>99120.0</td>\n",
       "      <td>5.757092</td>\n",
       "      <td>3.770359</td>\n",
       "      <td>0.0</td>\n",
       "      <td>2.0</td>\n",
       "      <td>6.0</td>\n",
       "      <td>10.0</td>\n",
       "      <td>10.0</td>\n",
       "      <td>0.0</td>\n",
       "    </tr>\n",
       "  </tbody>\n",
       "</table>\n",
       "</div>"
      ],
      "text/plain": [
       "              count      mean       std  min  25%  50%   75%   max  \\\n",
       "emp_length  99120.0  5.757092  3.770359  0.0  2.0  6.0  10.0  10.0   \n",
       "\n",
       "            missing_pct  \n",
       "emp_length          0.0  "
      ]
     },
     "execution_count": 45,
     "metadata": {},
     "output_type": "execute_result"
    }
   ],
   "source": [
    "df.select_dtypes(include=['int']).describe().T.\\\n",
    "assign(missing_pct=df.apply(lambda x : (len(x)-x.count())/float(len(x))))"
   ]
  },
  {
   "cell_type": "markdown",
   "metadata": {},
   "source": [
    "### Target: Loan Statuses"
   ]
  },
  {
   "cell_type": "code",
   "execution_count": 46,
   "metadata": {},
   "outputs": [
    {
     "data": {
      "text/plain": [
       "Current               79445\n",
       "Fully Paid            13066\n",
       "Charged Off            2502\n",
       "Late (31-120 days)     2245\n",
       "In Grace Period        1407\n",
       "Late (16-30 days)       454\n",
       "Default                   1\n",
       "Name: loan_status, dtype: int64"
      ]
     },
     "execution_count": 46,
     "metadata": {},
     "output_type": "execute_result"
    }
   ],
   "source": [
    "df['loan_status'].value_counts()\n",
    "# .plot(kind='bar')"
   ]
  },
  {
   "cell_type": "code",
   "execution_count": 47,
   "metadata": {},
   "outputs": [
    {
     "data": {
      "text/plain": [
       "1.0    92511\n",
       "0.0     2699\n",
       "Name: loan_status, dtype: int64"
      ]
     },
     "execution_count": 47,
     "metadata": {},
     "output_type": "execute_result"
    }
   ],
   "source": [
    "df.loan_status.replace('Fully Paid', int(1),inplace=True)\n",
    "df.loan_status.replace('Current', int(1),inplace=True)\n",
    "df.loan_status.replace('Late (16-30 days)', int(0),inplace=True)\n",
    "df.loan_status.replace('Late (31-120 days)', int(0),inplace=True)\n",
    "df.loan_status.replace('Charged Off', np.nan,inplace=True)\n",
    "df.loan_status.replace('In Grace Period', np.nan,inplace=True)\n",
    "df.loan_status.replace('Default', np.nan,inplace=True)\n",
    "# df.loan_status.astype('int')\n",
    "df.loan_status.value_counts()"
   ]
  },
  {
   "cell_type": "code",
   "execution_count": 48,
   "metadata": {
    "collapsed": true
   },
   "outputs": [],
   "source": [
    "# df.loan_status\n",
    "df.dropna(subset=['loan_status'],inplace=True)"
   ]
  },
  {
   "cell_type": "markdown",
   "metadata": {},
   "source": [
    "### Highly Correlated Data"
   ]
  },
  {
   "cell_type": "code",
   "execution_count": 49,
   "metadata": {},
   "outputs": [
    {
     "data": {
      "text/plain": [
       "funded_amnt                 loan_amnt            1.000000\n",
       "funded_amnt_inv             loan_amnt            0.999994\n",
       "                            funded_amnt          0.999994\n",
       "installment                 loan_amnt            0.953380\n",
       "                            funded_amnt          0.953380\n",
       "                                                   ...   \n",
       "total_bc_limit              num_bc_sats          0.633461\n",
       "total_il_high_credit_limit  open_il_6m           0.552023\n",
       "                            total_bal_il         0.960349\n",
       "                            num_il_tl            0.583329\n",
       "                            total_bal_ex_mort    0.889238\n",
       "Length: 93, dtype: float64"
      ]
     },
     "execution_count": 49,
     "metadata": {},
     "output_type": "execute_result"
    }
   ],
   "source": [
    "cor = df.corr()\n",
    "cor.loc[:,:] = np.tril(cor, k=-1) # below main lower triangle of an array\n",
    "cor = cor.stack()\n",
    "cor[(cor > 0.55) | (cor < -0.55)]"
   ]
  },
  {
   "cell_type": "code",
   "execution_count": 50,
   "metadata": {
    "collapsed": true
   },
   "outputs": [],
   "source": [
    "df.drop(['funded_amnt','funded_amnt_inv', 'installment'], axis=1, inplace=True)"
   ]
  },
  {
   "cell_type": "markdown",
   "metadata": {},
   "source": [
    "## 2. Our Model"
   ]
  },
  {
   "cell_type": "code",
   "execution_count": 51,
   "metadata": {
    "collapsed": true
   },
   "outputs": [],
   "source": [
    "from sklearn.model_selection import train_test_split\n",
    "from sklearn.model_selection import GridSearchCV\n",
    "from sklearn import ensemble\n",
    "from sklearn.preprocessing import OneHotEncoder #https://ljalphabeta.gitbooks.io/python-/content/categorical_data.html"
   ]
  },
  {
   "cell_type": "code",
   "execution_count": 52,
   "metadata": {
    "collapsed": true
   },
   "outputs": [],
   "source": [
    "Y = df.loan_status\n",
    "X = df.drop('loan_status',1,inplace=False)"
   ]
  },
  {
   "cell_type": "code",
   "execution_count": 55,
   "metadata": {},
   "outputs": [
    {
     "name": "stdout",
     "output_type": "stream",
     "text": [
      "(95210,)\n",
      "92511.0\n"
     ]
    }
   ],
   "source": [
    "print(Y.shape)\n",
    "print(sum(Y))"
   ]
  },
  {
   "cell_type": "code",
   "execution_count": 54,
   "metadata": {
    "collapsed": true
   },
   "outputs": [],
   "source": [
    "X = pd.get_dummies(X)"
   ]
  },
  {
   "cell_type": "code",
   "execution_count": 57,
   "metadata": {},
   "outputs": [
    {
     "name": "stdout",
     "output_type": "stream",
     "text": [
      "Index([u'loan_amnt', u'int_rate', u'emp_length', u'annual_inc', u'dti',\n",
      "       u'delinq_2yrs', u'inq_last_6mths', u'mths_since_last_delinq',\n",
      "       u'mths_since_last_record', u'open_acc', u'pub_rec', u'revol_bal',\n",
      "       u'total_acc', u'collections_12_mths_ex_med',\n",
      "       u'mths_since_last_major_derog', u'acc_now_delinq', u'tot_coll_amt',\n",
      "       u'tot_cur_bal', u'open_acc_6m', u'open_il_6m', u'open_il_12m',\n",
      "       u'open_il_24m', u'mths_since_rcnt_il', u'total_bal_il', u'il_util',\n",
      "       u'open_rv_12m', u'open_rv_24m', u'max_bal_bc', u'all_util',\n",
      "       u'total_rev_hi_lim', u'inq_fi', u'total_cu_tl', u'inq_last_12m',\n",
      "       u'acc_open_past_24mths', u'avg_cur_bal', u'bc_open_to_buy', u'bc_util',\n",
      "       u'chargeoff_within_12_mths', u'delinq_amnt', u'mo_sin_old_il_acct',\n",
      "       u'mo_sin_old_rev_tl_op', u'mo_sin_rcnt_rev_tl_op', u'mo_sin_rcnt_tl',\n",
      "       u'mort_acc', u'mths_since_recent_bc', u'mths_since_recent_bc_dlq',\n",
      "       u'mths_since_recent_inq', u'mths_since_recent_revol_delinq',\n",
      "       u'num_accts_ever_120_pd', u'num_actv_bc_tl', u'num_actv_rev_tl',\n",
      "       u'num_bc_sats', u'num_bc_tl', u'num_il_tl', u'num_op_rev_tl',\n",
      "       u'num_rev_accts', u'num_rev_tl_bal_gt_0', u'num_sats',\n",
      "       u'num_tl_120dpd_2m', u'num_tl_30dpd', u'num_tl_90g_dpd_24m',\n",
      "       u'num_tl_op_past_12m', u'pct_tl_nvr_dlq', u'percent_bc_gt_75',\n",
      "       u'pub_rec_bankruptcies', u'tax_liens', u'tot_hi_cred_lim',\n",
      "       u'total_bal_ex_mort', u'total_bc_limit', u'total_il_high_credit_limit',\n",
      "       u'home_ownership_ANY', u'home_ownership_MORTGAGE',\n",
      "       u'home_ownership_OWN', u'home_ownership_RENT',\n",
      "       u'verification_status_Not Verified',\n",
      "       u'verification_status_Source Verified', u'verification_status_Verified',\n",
      "       u'pymnt_plan_n', u'pymnt_plan_y', u'initial_list_status_f',\n",
      "       u'initial_list_status_w', u'application_type_DIRECT_PAY',\n",
      "       u'application_type_INDIVIDUAL', u'application_type_JOINT'],\n",
      "      dtype='object')\n",
      "[[  1.50000000e+04   1.39900000e+01   2.00000000e+00   5.50000000e+04\n",
      "    2.37800000e+01   1.00000000e+00   0.00000000e+00   7.00000000e+00\n",
      "               nan   2.20000000e+01   0.00000000e+00   2.13450000e+04\n",
      "    4.30000000e+01   0.00000000e+00              nan   0.00000000e+00\n",
      "    0.00000000e+00   1.40492000e+05   3.00000000e+00   1.00000000e+01\n",
      "    2.00000000e+00   3.00000000e+00   1.10000000e+01   1.19147000e+05\n",
      "    1.01000000e+02   3.00000000e+00   4.00000000e+00   1.46120000e+04\n",
      "    8.30000000e+01   3.90000000e+04   1.00000000e+00   6.00000000e+00\n",
      "    0.00000000e+00   7.00000000e+00   6.38600000e+03   9.64500000e+03\n",
      "    7.31000000e+01   0.00000000e+00   0.00000000e+00   1.57000000e+02\n",
      "    2.48000000e+02   4.00000000e+00   4.00000000e+00   0.00000000e+00\n",
      "    4.00000000e+00   7.00000000e+00   2.20000000e+01   7.00000000e+00\n",
      "    0.00000000e+00   5.00000000e+00   9.00000000e+00   6.00000000e+00\n",
      "    7.00000000e+00   2.50000000e+01   1.10000000e+01   1.80000000e+01\n",
      "    9.00000000e+00   2.20000000e+01   0.00000000e+00   0.00000000e+00\n",
      "    0.00000000e+00   5.00000000e+00   1.00000000e+02   3.33000000e+01\n",
      "    0.00000000e+00   0.00000000e+00   1.47587000e+05   1.40492000e+05\n",
      "    3.02000000e+04   1.08587000e+05   0.00000000e+00   0.00000000e+00\n",
      "    0.00000000e+00   1.00000000e+00   1.00000000e+00   0.00000000e+00\n",
      "    0.00000000e+00   1.00000000e+00   0.00000000e+00   1.00000000e+00\n",
      "    0.00000000e+00   0.00000000e+00   1.00000000e+00   0.00000000e+00]]\n",
      "<class 'pandas.core.frame.DataFrame'>\n",
      "Int64Index: 95210 entries, 0 to 99119\n",
      "Data columns (total 84 columns):\n",
      "loan_amnt                              95210 non-null float64\n",
      "int_rate                               95210 non-null float64\n",
      "emp_length                             95210 non-null int64\n",
      "annual_inc                             95210 non-null float64\n",
      "dti                                    95210 non-null float64\n",
      "delinq_2yrs                            95210 non-null float64\n",
      "inq_last_6mths                         95210 non-null float64\n",
      "mths_since_last_delinq                 51229 non-null float64\n",
      "mths_since_last_record                 18903 non-null float64\n",
      "open_acc                               95210 non-null float64\n",
      "pub_rec                                95210 non-null float64\n",
      "revol_bal                              95210 non-null float64\n",
      "total_acc                              95210 non-null float64\n",
      "collections_12_mths_ex_med             95210 non-null float64\n",
      "mths_since_last_major_derog            28125 non-null float64\n",
      "acc_now_delinq                         95210 non-null float64\n",
      "tot_coll_amt                           95210 non-null float64\n",
      "tot_cur_bal                            95210 non-null float64\n",
      "open_acc_6m                            95210 non-null float64\n",
      "open_il_6m                             95210 non-null float64\n",
      "open_il_12m                            95210 non-null float64\n",
      "open_il_24m                            95210 non-null float64\n",
      "mths_since_rcnt_il                     92660 non-null float64\n",
      "total_bal_il                           95210 non-null float64\n",
      "il_util                                82017 non-null float64\n",
      "open_rv_12m                            95210 non-null float64\n",
      "open_rv_24m                            95210 non-null float64\n",
      "max_bal_bc                             95210 non-null float64\n",
      "all_util                               95204 non-null float64\n",
      "total_rev_hi_lim                       95210 non-null float64\n",
      "inq_fi                                 95210 non-null float64\n",
      "total_cu_tl                            95210 non-null float64\n",
      "inq_last_12m                           95210 non-null float64\n",
      "acc_open_past_24mths                   95210 non-null float64\n",
      "avg_cur_bal                            95210 non-null float64\n",
      "bc_open_to_buy                         94160 non-null float64\n",
      "bc_util                                94126 non-null float64\n",
      "chargeoff_within_12_mths               95210 non-null float64\n",
      "delinq_amnt                            95210 non-null float64\n",
      "mo_sin_old_il_acct                     92660 non-null float64\n",
      "mo_sin_old_rev_tl_op                   95210 non-null float64\n",
      "mo_sin_rcnt_rev_tl_op                  95210 non-null float64\n",
      "mo_sin_rcnt_tl                         95210 non-null float64\n",
      "mort_acc                               95210 non-null float64\n",
      "mths_since_recent_bc                   94212 non-null float64\n",
      "mths_since_recent_bc_dlq               24968 non-null float64\n",
      "mths_since_recent_inq                  85581 non-null float64\n",
      "mths_since_recent_revol_delinq         35158 non-null float64\n",
      "num_accts_ever_120_pd                  95210 non-null float64\n",
      "num_actv_bc_tl                         95210 non-null float64\n",
      "num_actv_rev_tl                        95210 non-null float64\n",
      "num_bc_sats                            95210 non-null float64\n",
      "num_bc_tl                              95210 non-null float64\n",
      "num_il_tl                              95210 non-null float64\n",
      "num_op_rev_tl                          95210 non-null float64\n",
      "num_rev_accts                          95210 non-null float64\n",
      "num_rev_tl_bal_gt_0                    95210 non-null float64\n",
      "num_sats                               95210 non-null float64\n",
      "num_tl_120dpd_2m                       91951 non-null float64\n",
      "num_tl_30dpd                           95210 non-null float64\n",
      "num_tl_90g_dpd_24m                     95210 non-null float64\n",
      "num_tl_op_past_12m                     95210 non-null float64\n",
      "pct_tl_nvr_dlq                         95210 non-null float64\n",
      "percent_bc_gt_75                       94156 non-null float64\n",
      "pub_rec_bankruptcies                   95210 non-null float64\n",
      "tax_liens                              95210 non-null float64\n",
      "tot_hi_cred_lim                        95210 non-null float64\n",
      "total_bal_ex_mort                      95210 non-null float64\n",
      "total_bc_limit                         95210 non-null float64\n",
      "total_il_high_credit_limit             95210 non-null float64\n",
      "home_ownership_ANY                     95210 non-null float64\n",
      "home_ownership_MORTGAGE                95210 non-null float64\n",
      "home_ownership_OWN                     95210 non-null float64\n",
      "home_ownership_RENT                    95210 non-null float64\n",
      "verification_status_Not Verified       95210 non-null float64\n",
      "verification_status_Source Verified    95210 non-null float64\n",
      "verification_status_Verified           95210 non-null float64\n",
      "pymnt_plan_n                           95210 non-null float64\n",
      "pymnt_plan_y                           95210 non-null float64\n",
      "initial_list_status_f                  95210 non-null float64\n",
      "initial_list_status_w                  95210 non-null float64\n",
      "application_type_DIRECT_PAY            95210 non-null float64\n",
      "application_type_INDIVIDUAL            95210 non-null float64\n",
      "application_type_JOINT                 95210 non-null float64\n",
      "dtypes: float64(83), int64(1)\n",
      "memory usage: 61.7 MB\n"
     ]
    }
   ],
   "source": [
    "print X.columns\n",
    "print X.head(1).values\n",
    "X.info()"
   ]
  },
  {
   "cell_type": "code",
   "execution_count": 56,
   "metadata": {
    "collapsed": true
   },
   "outputs": [],
   "source": [
    "X.fillna(0.0,inplace=True)\n",
    "X.fillna(0,inplace=True)"
   ]
  },
  {
   "cell_type": "markdown",
   "metadata": {},
   "source": [
    "### Train Data & Test Data"
   ]
  },
  {
   "cell_type": "code",
   "execution_count": 57,
   "metadata": {
    "collapsed": true
   },
   "outputs": [],
   "source": [
    "x_train, x_test, y_train, y_test = train_test_split(X, Y, test_size=.3, random_state=123)"
   ]
  },
  {
   "cell_type": "code",
   "execution_count": 58,
   "metadata": {},
   "outputs": [
    {
     "name": "stdout",
     "output_type": "stream",
     "text": [
      "(66647, 84)\n",
      "(66647,)\n",
      "(28563, 84)\n",
      "(28563,)\n"
     ]
    }
   ],
   "source": [
    "print(x_train.shape)\n",
    "print(y_train.shape)\n",
    "print(x_test.shape)\n",
    "print(y_test.shape)"
   ]
  },
  {
   "cell_type": "code",
   "execution_count": 60,
   "metadata": {},
   "outputs": [
    {
     "name": "stdout",
     "output_type": "stream",
     "text": [
      "1.0    64712\n",
      "0.0     1935\n",
      "Name: loan_status, dtype: int64\n",
      "1.0    27799\n",
      "0.0      764\n",
      "Name: loan_status, dtype: int64\n"
     ]
    }
   ],
   "source": [
    "print(y_train.value_counts())\n",
    "print(y_test.value_counts())"
   ]
  },
  {
   "cell_type": "markdown",
   "metadata": {},
   "source": [
    "### Gradient Boosting Regression Tree"
   ]
  },
  {
   "cell_type": "code",
   "execution_count": 62,
   "metadata": {},
   "outputs": [
    {
     "name": "stdout",
     "output_type": "stream",
     "text": [
      "{'learning_rate': 0.1, 'max_depth': 2, 'min_samples_split': 50, 'n_estimators': 100}\n"
     ]
    }
   ],
   "source": [
    "# param_grid = {'learning_rate': [0.1, 0.05, 0.02, 0.01],\n",
    "#               'max_depth': [1,2,3,4],\n",
    "#               'min_samples_split': [50,100,200,400],\n",
    "#               'n_estimators': [100,200,400,800]\n",
    "#               }\n",
    "\n",
    "param_grid = {'learning_rate': [0.1],\n",
    "              'max_depth': [2],\n",
    "              'min_samples_split': [50,100],\n",
    "              'n_estimators': [100,200]\n",
    "              }\n",
    "# param_grid = {'learning_rate': [0.1],\n",
    "#               'max_depth': [4],\n",
    "#               'min_samples_leaf': [3],\n",
    "#               'max_features': [1.0],\n",
    "#               }\n",
    "\n",
    "est = GridSearchCV(ensemble.GradientBoostingRegressor(),\n",
    "                   param_grid, n_jobs=4, refit=True)\n",
    "\n",
    "est.fit(x_train, y_train)\n",
    "\n",
    "best_params = est.best_params_\n",
    "print(best_params)"
   ]
  },
  {
   "cell_type": "code",
   "execution_count": 63,
   "metadata": {},
   "outputs": [
    {
     "name": "stdout",
     "output_type": "stream",
     "text": [
      "{'learning_rate': 0.1, 'max_depth': 2, 'min_samples_split': 50, 'n_estimators': 100}\n"
     ]
    }
   ],
   "source": [
    "print(best_params)"
   ]
  },
  {
   "cell_type": "code",
   "execution_count": 64,
   "metadata": {},
   "outputs": [
    {
     "name": "stdout",
     "output_type": "stream",
     "text": [
      "Wall time: 1min 20s\n"
     ]
    }
   ],
   "source": [
    "%%time\n",
    "est = ensemble.GradientBoostingRegressor(min_samples_split=50,n_estimators=300,\n",
    "                                         learning_rate=0.1,max_depth=1, random_state=0,loss='ls').\\\n",
    "fit(x_train, y_train)"
   ]
  },
  {
   "cell_type": "code",
   "execution_count": 65,
   "metadata": {},
   "outputs": [
    {
     "data": {
      "text/plain": [
       "0.028311715416076022"
      ]
     },
     "execution_count": 65,
     "metadata": {},
     "output_type": "execute_result"
    }
   ],
   "source": [
    "est.score(x_test,y_test)"
   ]
  },
  {
   "cell_type": "code",
   "execution_count": 66,
   "metadata": {},
   "outputs": [
    {
     "name": "stdout",
     "output_type": "stream",
     "text": [
      "Wall time: 51.9 s\n"
     ]
    }
   ],
   "source": [
    "%%time\n",
    "est = ensemble.GradientBoostingRegressor(min_samples_split=50,n_estimators=100,\n",
    "                                         learning_rate=0.1,max_depth=2, random_state=0,loss='ls').\\\n",
    "fit(x_train, y_train)"
   ]
  },
  {
   "cell_type": "code",
   "execution_count": 67,
   "metadata": {},
   "outputs": [
    {
     "data": {
      "text/plain": [
       "0.029210266192750467"
      ]
     },
     "execution_count": 67,
     "metadata": {},
     "output_type": "execute_result"
    }
   ],
   "source": [
    "est.score(x_test,y_test)"
   ]
  },
  {
   "cell_type": "code",
   "execution_count": 68,
   "metadata": {
    "collapsed": true
   },
   "outputs": [],
   "source": [
    "# 模型好坏用户的评估区分度\n",
    "def compute_ks(data):\n",
    "\n",
    "    sorted_list = data.sort_values(['predict'], ascending=[True])\n",
    "\n",
    "    total_bad = sorted_list['label'].sum(axis=None, skipna=None, level=None, numeric_only=None) / 3\n",
    "    total_good = sorted_list.shape[0] - total_bad\n",
    "\n",
    "    # print \"total_bad = \", total_bad\n",
    "    # print \"total_good = \", total_good\n",
    "\n",
    "    max_ks = 0.0\n",
    "    good_count = 0.0\n",
    "    bad_count = 0.0\n",
    "    for index, row in sorted_list.iterrows():\n",
    "        if row['label'] == 3:\n",
    "            bad_count += 1.0\n",
    "        else:\n",
    "            good_count += 1.0\n",
    "\n",
    "        val = bad_count/total_bad - good_count/total_good\n",
    "        max_ks = max(max_ks, val)\n",
    "\n",
    "    return max_ks"
   ]
  },
  {
   "cell_type": "code",
   "execution_count": 70,
   "metadata": {},
   "outputs": [
    {
     "name": "stdout",
     "output_type": "stream",
     "text": [
      "0.0\n"
     ]
    }
   ],
   "source": [
    "test_pd = pd.DataFrame()\n",
    "test_pd['predict'] = est.predict(x_test)\n",
    "test_pd['label'] = y_test\n",
    "# df['predict'] = est.predict(x_test)\n",
    "print(compute_ks(test_pd[['label','predict']]))"
   ]
  },
  {
   "cell_type": "code",
   "execution_count": 71,
   "metadata": {},
   "outputs": [
    {
     "data": {
      "image/png": "[encoded data removed]",
      "text/plain": [
       "<Figure size 432x288 with 1 Axes>"
      ]
     },
     "metadata": {},
     "output_type": "display_data"
    }
   ],
   "source": [
    "# Top Ten\n",
    "feature_importance = est.feature_importances_\n",
    "feature_importance = 100.0 * (feature_importance / feature_importance.max())\n",
    "\n",
    "indices = np.argsort(feature_importance)[-10:]\n",
    "plt.barh(np.arange(10), feature_importance[indices],color='dodgerblue',alpha=.4)\n",
    "plt.yticks(np.arange(10 + 0.25), np.array(X.columns)[indices])\n",
    "_ = plt.xlabel('Relative importance'), plt.title('Top Ten Important Variables')"
   ]
  },
  {
   "cell_type": "markdown",
   "metadata": {},
   "source": [
    "### Other Model"
   ]
  },
  {
   "cell_type": "code",
   "execution_count": 72,
   "metadata": {
    "collapsed": true
   },
   "outputs": [],
   "source": [
    "import xgboost as xgb\n",
    "from sklearn.ensemble import ExtraTreesRegressor, RandomForestRegressor"
   ]
  },
  {
   "cell_type": "code",
   "execution_count": 75,
   "metadata": {},
   "outputs": [
    {
     "name": "stdout",
     "output_type": "stream",
     "text": [
      "0.9732521093722648\n",
      "0.0\n",
      "[0.         0.07651252 0.         0.         0.         0.\n",
      " 0.         0.         0.         0.         0.         0.\n",
      " 0.         0.         0.         0.         0.         0.\n",
      " 0.         0.         0.         0.         0.         0.\n",
      " 0.         0.         0.         0.         0.         0.\n",
      " 0.         0.         0.         0.00154799 0.         0.\n",
      " 0.         0.         0.         0.         0.         0.\n",
      " 0.         0.         0.         0.         0.         0.\n",
      " 0.         0.         0.         0.         0.         0.\n",
      " 0.         0.         0.         0.         0.         0.\n",
      " 0.         0.         0.         0.         0.         0.\n",
      " 0.         0.         0.         0.         0.         0.\n",
      " 0.         0.         0.         0.         0.0032182  0.45276618\n",
      " 0.4659551  0.         0.         0.         0.         0.        ]\n"
     ]
    },
    {
     "data": {
      "image/png": "[encoded data removed]",
      "text/plain": [
       "<Figure size 432x288 with 1 Axes>"
      ]
     },
     "metadata": {},
     "output_type": "display_data"
    }
   ],
   "source": [
    "# XGBoost\n",
    "clf2 = xgb.XGBClassifier(n_estimators=50, max_depth=1, \n",
    "                            learning_rate=0.01, subsample=0.8, colsample_bytree=0.3,scale_pos_weight=3.0, \n",
    "                             silent=True, nthread=-1, seed=0, missing=None,objective='binary:logistic', \n",
    "                             reg_alpha=1, reg_lambda=1, \n",
    "                             gamma=0, min_child_weight=1, \n",
    "                             max_delta_step=0,base_score=0.5)\n",
    "\n",
    "clf2.fit(x_train, y_train)\n",
    "print(clf2.score(x_test, y_test))\n",
    "test_pd2 = pd.DataFrame()\n",
    "test_pd2['predict'] = clf2.predict(x_test)\n",
    "test_pd2['label'] = y_test\n",
    "print(compute_ks(test_pd[['label','predict']]))\n",
    "print(clf2.feature_importances_)\n",
    "# Top Ten\n",
    "feature_importance = clf2.feature_importances_\n",
    "feature_importance = 100.0 * (feature_importance / feature_importance.max())\n",
    "\n",
    "indices = np.argsort(feature_importance)[-10:]\n",
    "plt.barh(np.arange(10), feature_importance[indices],color='dodgerblue',alpha=.4)\n",
    "plt.yticks(np.arange(10 + 0.25), np.array(X.columns)[indices])\n",
    "_ = plt.xlabel('Relative importance'), plt.title('Top Ten Important Variables')"
   ]
  },
  {
   "cell_type": "code",
   "execution_count": 77,
   "metadata": {},
   "outputs": [
    {
     "name": "stdout",
     "output_type": "stream",
     "text": [
      "0.024598452323976727\n",
      "0.0\n",
      "[1.70171138e-02 1.22652447e-01 6.30708081e-03 1.19131791e-02\n",
      " 2.20216928e-02 8.79821851e-03 4.93278061e-03 8.52443289e-03\n",
      " 7.49971494e-03 5.04376425e-03 5.78252070e-03 1.37711223e-02\n",
      " 1.08689863e-02 1.43604107e-03 8.43296945e-03 0.00000000e+00\n",
      " 1.46064909e-02 1.06173819e-02 6.99788141e-03 6.41293625e-03\n",
      " 4.12924418e-03 8.98599525e-03 1.08376756e-02 8.80382836e-03\n",
      " 1.72253275e-02 8.02049486e-03 9.02056937e-03 2.10930581e-02\n",
      " 1.85352446e-02 1.72459860e-02 7.54565649e-03 2.30667393e-02\n",
      " 1.53808647e-02 1.36311193e-02 1.46226367e-02 1.42002675e-02\n",
      " 1.76735327e-02 3.88138710e-03 1.25524946e-03 2.81120278e-02\n",
      " 2.87387942e-02 1.08475483e-02 8.37034764e-03 1.05848991e-02\n",
      " 1.76307937e-02 3.63829826e-03 9.65819412e-03 8.29840317e-03\n",
      " 8.68164404e-03 5.20219219e-03 6.38162306e-03 5.53901848e-03\n",
      " 1.12292042e-02 8.81153729e-03 6.87492287e-03 1.69736006e-02\n",
      " 7.45291937e-03 4.29349741e-03 0.00000000e+00 2.56324520e-03\n",
      " 4.93807914e-03 4.98934396e-03 1.78085643e-02 6.55505877e-03\n",
      " 1.77209537e-03 1.08497794e-02 1.48959849e-02 1.18425625e-02\n",
      " 1.07087111e-02 7.60061686e-03 0.00000000e+00 1.30741517e-03\n",
      " 2.09416709e-03 1.93369838e-03 6.33734250e-04 1.03192800e-03\n",
      " 1.64176398e-03 6.34158838e-02 9.24914505e-02 9.95657131e-04\n",
      " 1.16385654e-03 1.87136638e-03 7.01132260e-04 8.28074248e-05]\n"
     ]
    },
    {
     "data": {
      "image/png": "[encoded data removed]",
      "text/plain": [
       "<Figure size 432x288 with 1 Axes>"
      ]
     },
     "metadata": {},
     "output_type": "display_data"
    }
   ],
   "source": [
    "# RFR\n",
    "clf3 = RandomForestRegressor(n_jobs=-1, max_depth=10,random_state=0)\n",
    "clf3.fit(x_train, y_train)\n",
    "print(clf3.score(x_test, y_test))\n",
    "test_pd3 = pd.DataFrame()\n",
    "test_pd3['predict'] = clf3.predict(x_test)\n",
    "test_pd3['label'] = y_test\n",
    "print(compute_ks(test_pd[['label','predict']]))\n",
    "print(clf3.feature_importances_)\n",
    "# Top Ten\n",
    "feature_importance = clf3.feature_importances_\n",
    "feature_importance = 100.0 * (feature_importance / feature_importance.max())\n",
    "\n",
    "indices = np.argsort(feature_importance)[-10:]\n",
    "plt.barh(np.arange(10), feature_importance[indices],color='dodgerblue',alpha=.4)\n",
    "plt.yticks(np.arange(10 + 0.25), np.array(X.columns)[indices])\n",
    "_ = plt.xlabel('Relative importance'), plt.title('Top Ten Important Variables')"
   ]
  },
  {
   "cell_type": "code",
   "execution_count": 78,
   "metadata": {},
   "outputs": [
    {
     "name": "stdout",
     "output_type": "stream",
     "text": [
      "0.02642879152820621\n",
      "0.0\n",
      "[0.00952311 0.17042267 0.00583099 0.00584575 0.00706804 0.01377581\n",
      " 0.01050168 0.00537819 0.00629466 0.00463838 0.01194383 0.00795893\n",
      " 0.00627099 0.00577699 0.00534482 0.00200429 0.01238676 0.00344734\n",
      " 0.01007212 0.0070046  0.00871036 0.00935149 0.00712127 0.00525719\n",
      " 0.00948828 0.00821407 0.00944399 0.0115955  0.00942768 0.00608911\n",
      " 0.00872127 0.01773905 0.01331596 0.01043992 0.00471404 0.00797106\n",
      " 0.00828997 0.01059793 0.00198441 0.01166274 0.01094044 0.00844285\n",
      " 0.01113833 0.00983926 0.01392797 0.00513299 0.00656532 0.00730351\n",
      " 0.01074832 0.00488127 0.00672145 0.00563316 0.00958453 0.00614775\n",
      " 0.00577542 0.01246103 0.00697868 0.00528845 0.00055851 0.0054171\n",
      " 0.00811044 0.00681755 0.01157288 0.00770197 0.00544166 0.01541847\n",
      " 0.00443727 0.00428825 0.00553539 0.00519629 0.         0.0054567\n",
      " 0.00273556 0.00544176 0.0036546  0.00318864 0.0132062  0.11023794\n",
      " 0.12613118 0.00199557 0.00216339 0.00414336 0.00135406 0.00065928]\n"
     ]
    },
    {
     "data": {
      "image/png": "[encoded data removed]",
      "text/plain": [
       "<Figure size 432x288 with 1 Axes>"
      ]
     },
     "metadata": {},
     "output_type": "display_data"
    }
   ],
   "source": [
    "# XTR\n",
    "clf4 = ExtraTreesRegressor(n_jobs=-1, max_depth=10,random_state=0)\n",
    "clf4.fit(x_train, y_train)\n",
    "print(clf4.score(x_test, y_test))\n",
    "test_pd4 = pd.DataFrame()\n",
    "test_pd4['predict'] = clf4.predict(x_test)\n",
    "test_pd4['label'] = y_test\n",
    "print(compute_ks(test_pd[['label','predict']]))\n",
    "print(clf4.feature_importances_)\n",
    "# Top Ten\n",
    "feature_importance = clf4.feature_importances_\n",
    "feature_importance = 100.0 * (feature_importance / feature_importance.max())\n",
    "\n",
    "indices = np.argsort(feature_importance)[-10:]\n",
    "plt.barh(np.arange(10), feature_importance[indices],color='dodgerblue',alpha=.4)\n",
    "plt.yticks(np.arange(10 + 0.25), np.array(X.columns)[indices])\n",
    "_ = plt.xlabel('Relative importance'), plt.title('Top Ten Important Variables')"
   ]
  },
  {
   "cell_type": "code",
   "execution_count": 81,
   "metadata": {
    "collapsed": true
   },
   "outputs": [],
   "source": [
    "import joblib"
   ]
  },
  {
   "cell_type": "code",
   "execution_count": 84,
   "metadata": {},
   "outputs": [
    {
     "data": {
      "text/plain": [
       "['clf4.pkl']"
      ]
     },
     "execution_count": 84,
     "metadata": {},
     "output_type": "execute_result"
    }
   ],
   "source": [
    "joblib.dump(clf4,'clf4.pkl')"
   ]
  },
  {
   "cell_type": "code",
   "execution_count": 85,
   "metadata": {},
   "outputs": [
    {
     "data": {
      "text/plain": [
       "['est.pkl']"
      ]
     },
     "execution_count": 85,
     "metadata": {},
     "output_type": "execute_result"
    }
   ],
   "source": [
    "joblib.dump(est,'est.pkl')"
   ]
  },
  {
   "cell_type": "code",
   "execution_count": 87,
   "metadata": {},
   "outputs": [
    {
     "data": {
      "text/plain": [
       "['Y.pkl']"
      ]
     },
     "execution_count": 87,
     "metadata": {},
     "output_type": "execute_result"
    }
   ],
   "source": [
    "joblib.dump(Y,'Y.pkl')"
   ]
  },
  {
   "cell_type": "markdown",
   "metadata": {},
   "source": [
    "## 作业：\n",
    "### 1. feature-engineering\n",
    "### 2. stacking\n",
    "### 3. 画出ROC曲线和KS曲线对比"
   ]
  },
  {
   "cell_type": "code",
   "execution_count": 80,
   "metadata": {},
   "outputs": [
    {
     "ename": "NameError",
     "evalue": "name 'x_train_normal' is not defined",
     "output_type": "error",
     "traceback": [
      "\u001b[1;31m---------------------------------------------------------------------------\u001b[0m",
      "\u001b[1;31mNameError\u001b[0m                                 Traceback (most recent call last)",
      "\u001b[1;32m<ipython-input-80-2966924c4997>\u001b[0m in \u001b[0;36m<module>\u001b[1;34m()\u001b[0m\n\u001b[0;32m     23\u001b[0m \u001b[1;32mfrom\u001b[0m \u001b[0msklearn\u001b[0m\u001b[1;33m.\u001b[0m\u001b[0mpreprocessing\u001b[0m \u001b[1;32mimport\u001b[0m \u001b[0mMinMaxScaler\u001b[0m\u001b[1;33m\u001b[0m\u001b[0m\n\u001b[0;32m     24\u001b[0m \u001b[0mScaler\u001b[0m \u001b[1;33m=\u001b[0m \u001b[0mMinMaxScaler\u001b[0m\u001b[1;33m(\u001b[0m\u001b[1;33m)\u001b[0m\u001b[1;33m\u001b[0m\u001b[0m\n\u001b[1;32m---> 25\u001b[1;33m \u001b[0mx_train_normal\u001b[0m \u001b[1;33m=\u001b[0m \u001b[0mScaler\u001b[0m\u001b[1;33m.\u001b[0m\u001b[0mfit_transform\u001b[0m\u001b[1;33m(\u001b[0m\u001b[0mx_train_normal\u001b[0m\u001b[1;33m)\u001b[0m\u001b[1;33m\u001b[0m\u001b[0m\n\u001b[0m",
      "\u001b[1;31mNameError\u001b[0m: name 'x_train_normal' is not defined"
     ]
    }
   ],
   "source": [
    "# 特征工程方法1：histogram\n",
    "# 值域分布\n",
    "def get_histogram_features(full_dataset):\n",
    "    def extract_histogram(x):\n",
    "        count, _ = np.histogram(x, bins=[0, 10, 100, 1000, 10000, 100000, 1000000, 9000000])\n",
    "        return count\n",
    "    column_names = [\"hist_{}\".format(i) for i in range(8)]\n",
    "    hist = full_dataset.apply(lambda row: pd.Series(extract_histogram(row)), axis=1)\n",
    "    hist.columns= column_names\n",
    "    return hist\n",
    "# 特征工程方法2：quantile\n",
    "# 频域分布\n",
    "q = [0.1, 0.2, 0.3, 0.4, 0.5, 0.6, 0.7, 0.8, 0.9]\n",
    "column_names = [\"quantile_{}\".format(i) for i in q]\n",
    "# print pd.DataFrame(train_x)\n",
    "quantile = pd.DataFrame(x_train).quantile(q=q, axis=1).T\n",
    "quantile.columns = column_names\n",
    "# 特征工程方法3：cumsum\n",
    "def get_cumsum_features(all_features):\n",
    "    column_names = [\"cumsum_{}\".format(i) for i in range(len(all_features))]\n",
    "    cumsum = full_dataset[all_features].cumsum(axis=1)\n",
    "    cumsum.columns = column_names\n",
    "    return cumsum\n",
    "# 特征工程方法4：特征归一化\n",
    "from sklearn.preprocessing import MinMaxScaler\n",
    "Scaler = MinMaxScaler()\n",
    "x_train_normal = Scaler.fit_transform(x_train_normal)"
   ]
  },
  {
   "cell_type": "code",
   "execution_count": null,
   "metadata": {
    "collapsed": true
   },
   "outputs": [],
   "source": []
  }
 ],
 "metadata": {
  "kernelspec": {
   "display_name": "Python 3",
   "language": "python",
   "name": "python3"
  },
  "language_info": {
   "codemirror_mode": {
    "name": "ipython",
    "version": 3
   },
   "file_extension": ".py",
   "mimetype": "text/x-python",
   "name": "python",
   "nbconvert_exporter": "python",
   "pygments_lexer": "ipython3",
   "version": "3.6.2"
  }
 },
 "nbformat": 4,
 "nbformat_minor": 1
}
